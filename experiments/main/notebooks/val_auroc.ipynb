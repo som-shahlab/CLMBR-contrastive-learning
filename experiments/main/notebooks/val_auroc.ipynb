{
 "cells": [
  {
   "cell_type": "code",
   "execution_count": 1,
   "metadata": {},
   "outputs": [
    {
     "data": {
      "text/plain": [
       "<Figure size 432x288 with 0 Axes>"
      ]
     },
     "metadata": {},
     "output_type": "display_data"
    }
   ],
   "source": [
    "import numpy as np\n",
    "import pandas as pd\n",
    "from scipy.special import softmax\n",
    "from scipy.stats import pointbiserialr\n",
    "from ast import literal_eval\n",
    "from matplotlib import pyplot as plt\n",
    "from matplotlib.ticker import MaxNLocator\n",
    "from matplotlib.pyplot import savefig\n",
    "from matplotlib.ticker import FormatStrFormatter\n",
    "%matplotlib inline\n",
    "\n",
    "import seaborn as sns\n",
    "sns.set_style(\"ticks\")\n",
    "sns.set_context(context='paper',font_scale=1.2)\n",
    "sns.despine()\n",
    "\n",
    "import yaml\n",
    "import os\n",
    "from sklearn.model_selection import ParameterGrid\n",
    "from sklearn.metrics import roc_auc_score\n",
    "import warnings\n",
    "warnings.filterwarnings('ignore')"
   ]
  },
  {
   "cell_type": "code",
   "execution_count": 2,
   "metadata": {},
   "outputs": [],
   "source": [
    "model_path = '/local-scratch/nigam/projects/jlemmon/cl-clmbr/experiments/main/artifacts/models/clmbr'\n",
    "results_path = '/local-scratch/nigam/projects/jlemmon/cl-clmbr/experiments/main/artifacts/results'\n",
    "figure_path = '/local-scratch/nigam/projects/jlemmon/cl-clmbr/experiments/main/notebooks/figures'"
   ]
  },
  {
   "cell_type": "code",
   "execution_count": 4,
   "metadata": {},
   "outputs": [],
   "source": [
    "tv_df = pd.read_csv(f'{model_path}/contrastive_learn/models/gru_sz_800_do_0.1_cd_0_dd_0_lr_0.001_l2_0.01/bs_2000_lr_3e-5_temp_0.01_pool_trivial/val_preds.csv')\n",
    "preds = list(tv_df['preds'])\n",
    "l = []\n",
    "for p in preds:\n",
    "    s = ' '.join(p.split())\n",
    "    s = s.replace('[ ','')\n",
    "    s = s.replace('[','')\n",
    "    s = s.replace('   ',' ')\n",
    "    s = s.replace('  ',' ')\n",
    "    s = s.replace(' ]','')\n",
    "    s = s.replace(']','')\n",
    "    s = s.replace('\\n', '')\n",
    "    s = s.split(' ')\n",
    "    s = [float(x) for x in s]\n",
    "    l.append(softmax(s))\n",
    "tv_df['preds'] = l\n",
    "bin_lbls = []\n",
    "logits = []\n",
    "preds = list(tv_df['preds'])\n",
    "lbls = list(tv_df['labels'])\n",
    "\n",
    "for i, p in enumerate(preds):\n",
    "    logit = np.amax(p)\n",
    "    logits.append(logit)\n",
    "    lbl = np.argmax(p)\n",
    "    if lbl == lbls[i]:\n",
    "        bin_lbls.append(1)\n",
    "    else:\n",
    "        bin_lbls.append(0)\n",
    "tv_df['bin_lbl'] = bin_lbls\n",
    "tv_df['bin_logit'] = logits"
   ]
  },
  {
   "cell_type": "code",
   "execution_count": 6,
   "metadata": {},
   "outputs": [],
   "source": [
    "rd_df = pd.read_csv(f'{model_path}/contrastive_learn/models/gru_sz_800_do_0.1_cd_0_dd_0_lr_0.001_l2_0.01/bs_3000_lr_5e-5_temp_0.01_pool_rand_day/val_preds.csv')\n",
    "preds = list(rd_df['preds'])\n",
    "l = []\n",
    "for p in preds:\n",
    "    s = ' '.join(p.split())\n",
    "    s = s.replace('[ ','')\n",
    "    s = s.replace('[','')\n",
    "    s = s.replace('   ',' ')\n",
    "    s = s.replace('  ',' ')\n",
    "    s = s.replace(' ]','')\n",
    "    s = s.replace(']','')\n",
    "    s = s.replace('\\n', '')\n",
    "    s = s.split(' ')\n",
    "    s = [float(x) for x in s]\n",
    "    l.append(softmax(s))\n",
    "rd_df['preds'] = l\n",
    "bin_lbls = []\n",
    "logits = []\n",
    "preds = list(rd_df['preds'])\n",
    "lbls = list(rd_df['labels'])\n",
    "\n",
    "for i, p in enumerate(preds):\n",
    "    logit = np.amax(p)\n",
    "    logits.append(logit)\n",
    "    lbl = np.argmax(p)\n",
    "    if lbl == lbls[i]:\n",
    "        bin_lbls.append(1)\n",
    "    else:\n",
    "        bin_lbls.append(0)\n",
    "rd_df['bin_lbl'] = bin_lbls\n",
    "rd_df['bin_logit'] = logits"
   ]
  },
  {
   "cell_type": "code",
   "execution_count": 7,
   "metadata": {},
   "outputs": [],
   "source": [
    "mr_df = pd.read_csv(f'{model_path}/contrastive_learn/models/gru_sz_800_do_0.1_cd_0_dd_0_lr_0.001_l2_0.01/bs_1000_lr_5e-5_temp_0.01_pool_mean_rep/val_preds.csv')\n",
    "preds = list(mr_df['preds'])\n",
    "l = []\n",
    "for p in preds:\n",
    "    s = ' '.join(p.split())\n",
    "    s = s.replace('[ ','')\n",
    "    s = s.replace('[','')\n",
    "    s = s.replace('   ',' ')\n",
    "    s = s.replace('  ',' ')\n",
    "    s = s.replace(' ]','')\n",
    "    s = s.replace(']','')\n",
    "    s = s.replace('\\n', '')\n",
    "    s = s.split(' ')\n",
    "    s = [float(x) for x in s]\n",
    "    l.append(softmax(s))\n",
    "mr_df['preds'] = l\n",
    "bin_lbls = []\n",
    "logits = []\n",
    "preds = list(mr_df['preds'])\n",
    "lbls = list(mr_df['labels'])\n",
    "\n",
    "for i, p in enumerate(preds):\n",
    "    logit = np.amax(p)\n",
    "    logits.append(logit)\n",
    "    lbl = np.argmax(p)\n",
    "    if lbl == lbls[i]:\n",
    "        bin_lbls.append(1)\n",
    "    else:\n",
    "        bin_lbls.append(0)\n",
    "mr_df['bin_lbl'] = bin_lbls\n",
    "mr_df['bin_logit'] = logits"
   ]
  },
  {
   "cell_type": "code",
   "execution_count": 8,
   "metadata": {},
   "outputs": [],
   "source": [
    "dp_df = pd.read_csv(f'{model_path}/contrastive_learn/models/gru_sz_800_do_0.1_cd_0_dd_0_lr_0.001_l2_0.01/bs_3000_lr_5e-5_temp_0.01_pool_diff_pat/val_preds.csv')\n",
    "preds = list(dp_df['preds'])\n",
    "l = []\n",
    "for p in preds:\n",
    "    s = ' '.join(p.split())\n",
    "    s = s.replace('[ ','')\n",
    "    s = s.replace('[','')\n",
    "    s = s.replace('   ',' ')\n",
    "    s = s.replace('  ',' ')\n",
    "    s = s.replace(' ]','')\n",
    "    s = s.replace(']','')\n",
    "    s = s.replace('\\n', '')\n",
    "    s = s.split(' ')\n",
    "    s = [float(x) for x in s]\n",
    "    l.append(softmax(s))\n",
    "dp_df['preds'] = l\n",
    "bin_lbls = []\n",
    "logits = []\n",
    "preds = list(dp_df['preds'])\n",
    "lbls = list(dp_df['labels'])\n",
    "\n",
    "for i, p in enumerate(preds):\n",
    "    logit = np.amax(p)\n",
    "    logits.append(logit)\n",
    "    lbl = np.argmax(p)\n",
    "    if lbl == lbls[i]:\n",
    "        bin_lbls.append(1)\n",
    "    else:\n",
    "        bin_lbls.append(0)\n",
    "dp_df['bin_lbl'] = bin_lbls\n",
    "dp_df['bin_logit'] = logits"
   ]
  },
  {
   "cell_type": "code",
   "execution_count": 9,
   "metadata": {},
   "outputs": [],
   "source": [
    "clr_df = pd.read_csv(f'{model_path}/cl_ete/models/gru_sz_800_do_0.1_cd_0_dd_0_lr_0.01_l2_0.1_bs_1000_lr_1e-5_temp_0.01_pool_mean_rep/val_preds.csv')\n",
    "preds = list(clr_df['preds'])\n",
    "l = []\n",
    "for p in preds:\n",
    "    s = ' '.join(p.split())\n",
    "    s = s.replace('[ ','')\n",
    "    s = s.replace('[','')\n",
    "    s = s.replace('   ',' ')\n",
    "    s = s.replace('  ',' ')\n",
    "    s = s.replace(' ]','')\n",
    "    s = s.replace(']','')\n",
    "    s = s.replace('\\n', '')\n",
    "    s = s.split(' ')\n",
    "    s = [float(x) for x in s]\n",
    "    l.append(softmax(s))\n",
    "clr_df['preds'] = l\n",
    "bin_lbls = []\n",
    "logits = []\n",
    "preds = list(clr_df['preds'])\n",
    "lbls = list(clr_df['labels'])\n",
    "\n",
    "for i, p in enumerate(preds):\n",
    "    logit = np.amax(p)\n",
    "    logits.append(logit)\n",
    "    lbl = np.argmax(p)\n",
    "    if lbl == lbls[i]:\n",
    "        bin_lbls.append(1)\n",
    "    else:\n",
    "        bin_lbls.append(0)\n",
    "clr_df['bin_lbl'] = bin_lbls\n",
    "clr_df['bin_logit'] = logits"
   ]
  },
  {
   "cell_type": "code",
   "execution_count": 10,
   "metadata": {},
   "outputs": [],
   "source": [
    "ocp_df = pd.read_csv(f'{model_path}/ocp/models/gru_sz_800_do_0.1_l2_0.1_lr_1e-5_pool_ocp/val_preds.csv')"
   ]
  },
  {
   "cell_type": "code",
   "execution_count": 11,
   "metadata": {},
   "outputs": [
    {
     "data": {
      "text/plain": [
       "<AxesSubplot:>"
      ]
     },
     "execution_count": 11,
     "metadata": {},
     "output_type": "execute_result"
    },
    {
     "data": {
      "image/png": "[encoded data removed]",
      "text/plain": [
       "<Figure size 432x288 with 1 Axes>"
      ]
     },
     "metadata": {},
     "output_type": "display_data"
    }
   ],
   "source": [
    "epochs = list(tv_df['epoch'].unique())\n",
    "auroc = []\n",
    "for e in epochs:\n",
    "    df = tv_df.query('epoch == @e')\n",
    "    preds = list(df['bin_logit'])\n",
    "    lbls = list(df['bin_lbl'])\n",
    "    auroc.append(roc_auc_score(lbls,preds))\n",
    "sns.lineplot(list(np.arange(1,len(epochs)+1)),auroc)"
   ]
  },
  {
   "cell_type": "code",
   "execution_count": 12,
   "metadata": {},
   "outputs": [
    {
     "data": {
      "text/plain": [
       "<AxesSubplot:>"
      ]
     },
     "execution_count": 12,
     "metadata": {},
     "output_type": "execute_result"
    },
    {
     "data": {
      "image/png": "[encoded data removed]",
      "text/plain": [
       "<Figure size 432x288 with 1 Axes>"
      ]
     },
     "metadata": {},
     "output_type": "display_data"
    }
   ],
   "source": [
    "epochs = list(rd_df['epoch'].unique())\n",
    "auroc = []\n",
    "for e in epochs:\n",
    "    df = rd_df.query('epoch == @e')\n",
    "    preds = list(df['bin_logit'])\n",
    "    lbls = list(df['bin_lbl'])\n",
    "    auroc.append(roc_auc_score(lbls,preds))\n",
    "sns.lineplot(list(np.arange(1,len(epochs)+1)),auroc)"
   ]
  },
  {
   "cell_type": "code",
   "execution_count": 13,
   "metadata": {},
   "outputs": [
    {
     "data": {
      "text/html": [
       "<div>\n",
       "<style scoped>\n",
       "    .dataframe tbody tr th:only-of-type {\n",
       "        vertical-align: middle;\n",
       "    }\n",
       "\n",
       "    .dataframe tbody tr th {\n",
       "        vertical-align: top;\n",
       "    }\n",
       "\n",
       "    .dataframe thead th {\n",
       "        text-align: right;\n",
       "    }\n",
       "</style>\n",
       "<table border=\"1\" class=\"dataframe\">\n",
       "  <thead>\n",
       "    <tr style=\"text-align: right;\">\n",
       "      <th></th>\n",
       "      <th>epoch</th>\n",
       "      <th>preds</th>\n",
       "      <th>labels</th>\n",
       "      <th>bin_lbl</th>\n",
       "      <th>bin_logit</th>\n",
       "    </tr>\n",
       "  </thead>\n",
       "  <tbody>\n",
       "    <tr>\n",
       "      <th>0</th>\n",
       "      <td>0</td>\n",
       "      <td>[0.24186876771002366, 0.2581305066814963, 6.82...</td>\n",
       "      <td>0</td>\n",
       "      <td>0</td>\n",
       "      <td>0.258131</td>\n",
       "    </tr>\n",
       "    <tr>\n",
       "      <th>1</th>\n",
       "      <td>0</td>\n",
       "      <td>[0.21071205601733872, 0.28928794398266056, 3.4...</td>\n",
       "      <td>1</td>\n",
       "      <td>1</td>\n",
       "      <td>0.289288</td>\n",
       "    </tr>\n",
       "    <tr>\n",
       "      <th>2</th>\n",
       "      <td>0</td>\n",
       "      <td>[0.21561847487977628, 0.28438260320720576, 1.2...</td>\n",
       "      <td>2</td>\n",
       "      <td>0</td>\n",
       "      <td>0.284383</td>\n",
       "    </tr>\n",
       "    <tr>\n",
       "      <th>3</th>\n",
       "      <td>0</td>\n",
       "      <td>[0.24186861924351344, 0.2581313807564881, 6.82...</td>\n",
       "      <td>3</td>\n",
       "      <td>0</td>\n",
       "      <td>0.258131</td>\n",
       "    </tr>\n",
       "    <tr>\n",
       "      <th>4</th>\n",
       "      <td>0</td>\n",
       "      <td>[0.2107116902781327, 0.28928917758679806, 3.43...</td>\n",
       "      <td>4</td>\n",
       "      <td>0</td>\n",
       "      <td>0.289289</td>\n",
       "    </tr>\n",
       "  </tbody>\n",
       "</table>\n",
       "</div>"
      ],
      "text/plain": [
       "   epoch                                              preds  labels  bin_lbl  \\\n",
       "0      0  [0.24186876771002366, 0.2581305066814963, 6.82...       0        0   \n",
       "1      0  [0.21071205601733872, 0.28928794398266056, 3.4...       1        1   \n",
       "2      0  [0.21561847487977628, 0.28438260320720576, 1.2...       2        0   \n",
       "3      0  [0.24186861924351344, 0.2581313807564881, 6.82...       3        0   \n",
       "4      0  [0.2107116902781327, 0.28928917758679806, 3.43...       4        0   \n",
       "\n",
       "   bin_logit  \n",
       "0   0.258131  \n",
       "1   0.289288  \n",
       "2   0.284383  \n",
       "3   0.258131  \n",
       "4   0.289289  "
      ]
     },
     "execution_count": 13,
     "metadata": {},
     "output_type": "execute_result"
    }
   ],
   "source": [
    "rd_df.head()"
   ]
  },
  {
   "cell_type": "code",
   "execution_count": 14,
   "metadata": {},
   "outputs": [
    {
     "data": {
      "text/plain": [
       "<AxesSubplot:>"
      ]
     },
     "execution_count": 14,
     "metadata": {},
     "output_type": "execute_result"
    },
    {
     "data": {
      "image/png": "[encoded data removed]",
      "text/plain": [
       "<Figure size 432x288 with 1 Axes>"
      ]
     },
     "metadata": {},
     "output_type": "display_data"
    }
   ],
   "source": [
    "epochs = list(mr_df['epoch'].unique())\n",
    "auroc = []\n",
    "for e in epochs:\n",
    "    df = mr_df.query('epoch == @e')\n",
    "    preds = list(df['bin_logit'])\n",
    "    lbls = list(df['bin_lbl'])\n",
    "    auroc.append(roc_auc_score(lbls,preds))\n",
    "sns.lineplot(list(np.arange(1,len(epochs)+1)),auroc)"
   ]
  },
  {
   "cell_type": "code",
   "execution_count": 15,
   "metadata": {},
   "outputs": [
    {
     "data": {
      "text/plain": [
       "<AxesSubplot:>"
      ]
     },
     "execution_count": 15,
     "metadata": {},
     "output_type": "execute_result"
    },
    {
     "data": {
      "image/png": "[encoded data removed]",
      "text/plain": [
       "<Figure size 432x288 with 1 Axes>"
      ]
     },
     "metadata": {},
     "output_type": "display_data"
    }
   ],
   "source": [
    "epochs = list(dp_df['epoch'].unique())\n",
    "auroc = []\n",
    "for e in epochs:\n",
    "    df = dp_df.query('epoch == @e')\n",
    "    preds = list(df['bin_logit'])\n",
    "    lbls = list(df['bin_lbl'])\n",
    "    auroc.append(roc_auc_score(lbls,preds))\n",
    "sns.lineplot(list(np.arange(1,len(epochs)+1)),auroc)"
   ]
  },
  {
   "cell_type": "code",
   "execution_count": 16,
   "metadata": {},
   "outputs": [
    {
     "data": {
      "text/plain": [
       "<AxesSubplot:>"
      ]
     },
     "execution_count": 16,
     "metadata": {},
     "output_type": "execute_result"
    },
    {
     "data": {
      "image/png": "[encoded data removed]",
      "text/plain": [
       "<Figure size 432x288 with 1 Axes>"
      ]
     },
     "metadata": {},
     "output_type": "display_data"
    }
   ],
   "source": [
    "epochs = list(clr_df['epoch'].unique())\n",
    "auroc = []\n",
    "for e in epochs:\n",
    "    df = clr_df.query('epoch == @e')\n",
    "    preds = list(df['bin_logit'])\n",
    "    lbls = list(df['bin_lbl'])\n",
    "    auroc.append(roc_auc_score(lbls,preds))\n",
    "sns.lineplot(list(np.arange(1,len(epochs)+1)),auroc)"
   ]
  },
  {
   "cell_type": "code",
   "execution_count": 17,
   "metadata": {},
   "outputs": [
    {
     "data": {
      "text/plain": [
       "<AxesSubplot:>"
      ]
     },
     "execution_count": 17,
     "metadata": {},
     "output_type": "execute_result"
    },
    {
     "data": {
      "image/png": "[encoded data removed]",
      "text/plain": [
       "<Figure size 432x288 with 1 Axes>"
      ]
     },
     "metadata": {},
     "output_type": "display_data"
    }
   ],
   "source": [
    "epochs = list(ocp_df['epoch'].unique())\n",
    "auroc = []\n",
    "for e in epochs:\n",
    "    df = ocp_df.query('epoch == @e')\n",
    "    preds = list(df['preds'])\n",
    "    lbls = list(df['labels'])\n",
    "    auroc.append(roc_auc_score(lbls,preds))\n",
    "sns.lineplot(list(np.arange(1,len(epochs)+1)),auroc)"
   ]
  },
  {
   "cell_type": "code",
   "execution_count": null,
   "metadata": {},
   "outputs": [],
   "source": [
    "correlation_vals = []\n",
    "epochs = list(rd_df['epoch'].unique())\n",
    "for e in epochs:\n",
    "    df = rd_df.query('epoch == @e')\n",
    "    preds = list(df['preds'])\n",
    "    lbls = list(df['labels'])\n",
    "    vals = []\n",
    "    start_indices = [i for i in range(len(lbls)) if lbls[i] == 0]\n",
    "    for i, si in enumerate(start_indices):\n",
    "        if i < len(start_indices)-1:\n",
    "            sim_matrix = preds[si:start_indices[i+1]]\n",
    "        else:\n",
    "            sim_matrix = preds[si:]\n",
    "        \n",
    "        id_mat = np.identity(len(sim_matrix))\n",
    "        print(id_mat)\n",
    "        for s in sim_matrix:\n",
    "            print(s)\n",
    "        id_mat = np.reshape(id_mat, (len(sim_matrix)*len(sim_matrix)))\n",
    "        sim_matrix = np.reshape(sim_matrix, (len(sim_matrix)*len(sim_matrix)))\n",
    "        \n",
    "        v, _ = pointbiserialr(id_mat, sim_matrix)\n",
    "\n",
    "        vals.append(v)\n",
    "    correlation_vals.append(np.mean(vals))\n",
    "    \n",
    "    \n",
    "sns.lineplot(list(np.arange(1,len(epochs)+1)),correlation_vals)"
   ]
  },
  {
   "cell_type": "code",
   "execution_count": null,
   "metadata": {},
   "outputs": [],
   "source": [
    "correlation_vals = []\n",
    "epochs = list(mr_df['epoch'].unique())\n",
    "for e in epochs:\n",
    "    df = mr_df.query('epoch == @e')\n",
    "    preds = list(df['preds'])\n",
    "    lbls = list(df['labels'])\n",
    "    vals = []\n",
    "    start_indices = [i for i in range(len(lbls)) if lbls[i] == 0]\n",
    "    for i, si in enumerate(start_indices):\n",
    "        if i < len(start_indices)-1:\n",
    "            sim_matrix = preds[si:start_indices[i+1]]\n",
    "        else:\n",
    "            sim_matrix = preds[si:]\n",
    "        \n",
    "        id_mat = np.identity(len(sim_matrix))\n",
    "        id_mat = np.reshape(id_mat, (len(sim_matrix)*len(sim_matrix)))\n",
    "        sim_matrix = np.reshape(sim_matrix, (len(sim_matrix)*len(sim_matrix)))\n",
    "        v, _ = pointbiserialr(id_mat, sim_matrix)\n",
    "        vals.append(v)\n",
    "    vals = [v for v in vals if np.isnan(v) == False]\n",
    "    correlation_vals.append(np.mean(vals))\n",
    "sns.lineplot(list(np.arange(1,len(epochs)+1)),correlation_vals)"
   ]
  },
  {
   "cell_type": "code",
   "execution_count": null,
   "metadata": {},
   "outputs": [],
   "source": [
    "correlation_vals = []\n",
    "epochs = list(dp_df['epoch'].unique())\n",
    "for e in epochs:\n",
    "    df = dp_df.query('epoch == @e')\n",
    "    preds = list(df['preds'])\n",
    "    lbls = list(df['labels'])\n",
    "    vals = []\n",
    "    start_indices = [i for i in range(len(lbls)) if lbls[i] == 0]\n",
    "    for i, si in enumerate(start_indices):\n",
    "        if i < len(start_indices)-1:\n",
    "            sim_matrix = preds[si:start_indices[i+1]]\n",
    "        else:\n",
    "            sim_matrix = preds[si:]\n",
    "        \n",
    "        id_mat = np.identity(len(sim_matrix))\n",
    "        id_mat = np.reshape(id_mat, (len(sim_matrix)*len(sim_matrix)))\n",
    "        sim_matrix = np.reshape(sim_matrix, (len(sim_matrix)*len(sim_matrix)))\n",
    "        if len(id_mat) > 2:\n",
    "            v, _ = pointbiserialr(id_mat, sim_matrix)\n",
    "            vals.append(v)\n",
    "    vals = [v for v in vals if np.isnan(v) == False]\n",
    "    correlation_vals.append(np.mean(vals))\n",
    "    \n",
    "sns.lineplot(list(np.arange(1,len(epochs)+1)),correlation_vals)"
   ]
  },
  {
   "cell_type": "code",
   "execution_count": null,
   "metadata": {},
   "outputs": [],
   "source": [
    "correlation_vals = []\n",
    "epochs = list(clr_df['epoch'].unique())\n",
    "for e in epochs:\n",
    "    df = clr_df.query('epoch == @e')\n",
    "    preds = list(df['preds'])\n",
    "    lbls = list(df['labels'])\n",
    "    vals = []\n",
    "    start_indices = [i for i in range(len(lbls)) if lbls[i] == 0]\n",
    "    for i, si in enumerate(start_indices):\n",
    "        if i < len(start_indices)-1:\n",
    "            sim_matrix = preds[si:start_indices[i+1]]\n",
    "        else:\n",
    "            sim_matrix = preds[si:]\n",
    "        \n",
    "        id_mat = np.identity(len(sim_matrix))\n",
    "        id_mat = np.reshape(id_mat, (len(sim_matrix)*len(sim_matrix)))\n",
    "        sim_matrix = np.reshape(sim_matrix, (len(sim_matrix)*len(sim_matrix)))\n",
    "        if len(id_mat) > 2:\n",
    "            v, _ = pointbiserialr(id_mat, sim_matrix)\n",
    "            vals.append(v)\n",
    "    vals = [v for v in vals if np.isnan(v) == False]\n",
    "    correlation_vals.append(np.mean(vals))\n",
    "    \n",
    "    \n",
    "sns.lineplot(list(np.arange(1,len(epochs)+1)),correlation_vals)"
   ]
  },
  {
   "cell_type": "code",
   "execution_count": null,
   "metadata": {},
   "outputs": [],
   "source": [
    "from scipy.stats import pearsonr\n",
    "\n",
    "correlation_vals = []\n",
    "epochs = list(ocp_df['epoch'].unique())\n",
    "for e in epochs:\n",
    "    df = ocp_df.query('epoch == @e')\n",
    "    preds = list(df['preds'])\n",
    "    lbls = list(df['labels'])\n",
    "    \n",
    "    v, _ = pointbiserialr(lbls, preds)\n",
    "    correlation_vals.append(v)\n",
    "    \n",
    "    \n",
    "sns.lineplot(list(np.arange(1,len(epochs)+1)),correlation_vals)"
   ]
  },
  {
   "cell_type": "code",
   "execution_count": null,
   "metadata": {},
   "outputs": [],
   "source": []
  }
 ],
 "metadata": {
  "kernelspec": {
   "display_name": "conl",
   "language": "python",
   "name": "conl"
  },
  "language_info": {
   "codemirror_mode": {
    "name": "ipython",
    "version": 3
   },
   "file_extension": ".py",
   "mimetype": "text/x-python",
   "name": "python",
   "nbconvert_exporter": "python",
   "pygments_lexer": "ipython3",
   "version": "3.9.10"
  }
 },
 "nbformat": 4,
 "nbformat_minor": 2
}
