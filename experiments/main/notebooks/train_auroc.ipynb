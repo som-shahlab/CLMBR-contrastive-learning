{
 "cells": [
  {
   "cell_type": "code",
   "execution_count": 58,
   "metadata": {},
   "outputs": [
    {
     "data": {
      "text/plain": [
       "<Figure size 432x288 with 0 Axes>"
      ]
     },
     "metadata": {},
     "output_type": "display_data"
    }
   ],
   "source": [
    "import numpy as np\n",
    "import pandas as pd\n",
    "from scipy.special import softmax\n",
    "from scipy.stats import pointbiserialr\n",
    "from ast import literal_eval\n",
    "from matplotlib import pyplot as plt\n",
    "from matplotlib.ticker import MaxNLocator\n",
    "from matplotlib.pyplot import savefig\n",
    "from matplotlib.ticker import FormatStrFormatter\n",
    "%matplotlib inline\n",
    "\n",
    "import seaborn as sns\n",
    "sns.set_style(\"ticks\")\n",
    "sns.set_context(context='paper',font_scale=1.2)\n",
    "sns.despine()\n",
    "\n",
    "import yaml\n",
    "import os\n",
    "from sklearn.model_selection import ParameterGrid\n",
    "from sklearn.metrics import roc_auc_score\n",
    "import warnings\n",
    "warnings.filterwarnings('ignore')"
   ]
  },
  {
   "cell_type": "code",
   "execution_count": 59,
   "metadata": {},
   "outputs": [],
   "source": [
    "model_path = '/local-scratch/nigam/projects/jlemmon/cl-clmbr/experiments/main/artifacts/models/clmbr'\n",
    "results_path = '/local-scratch/nigam/projects/jlemmon/cl-clmbr/experiments/main/artifacts/results'\n",
    "figure_path = '/local-scratch/nigam/projects/jlemmon/cl-clmbr/experiments/main/notebooks/figures'"
   ]
  },
  {
   "cell_type": "code",
   "execution_count": 38,
   "metadata": {},
   "outputs": [
    {
     "data": {
      "text/html": [
       "<div>\n",
       "<style scoped>\n",
       "    .dataframe tbody tr th:only-of-type {\n",
       "        vertical-align: middle;\n",
       "    }\n",
       "\n",
       "    .dataframe tbody tr th {\n",
       "        vertical-align: top;\n",
       "    }\n",
       "\n",
       "    .dataframe thead th {\n",
       "        text-align: right;\n",
       "    }\n",
       "</style>\n",
       "<table border=\"1\" class=\"dataframe\">\n",
       "  <thead>\n",
       "    <tr style=\"text-align: right;\">\n",
       "      <th></th>\n",
       "      <th>epoch</th>\n",
       "      <th>preds</th>\n",
       "      <th>labels</th>\n",
       "    </tr>\n",
       "  </thead>\n",
       "  <tbody>\n",
       "    <tr>\n",
       "      <th>0</th>\n",
       "      <td>0</td>\n",
       "      <td>90.698330</td>\n",
       "      <td>1.0</td>\n",
       "    </tr>\n",
       "    <tr>\n",
       "      <th>1</th>\n",
       "      <td>0</td>\n",
       "      <td>21.948498</td>\n",
       "      <td>0.0</td>\n",
       "    </tr>\n",
       "    <tr>\n",
       "      <th>2</th>\n",
       "      <td>0</td>\n",
       "      <td>90.701996</td>\n",
       "      <td>1.0</td>\n",
       "    </tr>\n",
       "    <tr>\n",
       "      <th>3</th>\n",
       "      <td>0</td>\n",
       "      <td>12.944078</td>\n",
       "      <td>0.0</td>\n",
       "    </tr>\n",
       "    <tr>\n",
       "      <th>4</th>\n",
       "      <td>0</td>\n",
       "      <td>94.694090</td>\n",
       "      <td>1.0</td>\n",
       "    </tr>\n",
       "  </tbody>\n",
       "</table>\n",
       "</div>"
      ],
      "text/plain": [
       "   epoch      preds  labels\n",
       "0      0  90.698330     1.0\n",
       "1      0  21.948498     0.0\n",
       "2      0  90.701996     1.0\n",
       "3      0  12.944078     0.0\n",
       "4      0  94.694090     1.0"
      ]
     },
     "execution_count": 38,
     "metadata": {},
     "output_type": "execute_result"
    }
   ],
   "source": [
    "tv_df = pd.read_csv(f'{model_path}/contrastive_learn/models/gru_sz_800_do_0.1_cd_0_dd_0_lr_0.001_l2_0.01/bs_1000_lr_1e-5_temp_0.01_pool_trivial/train_preds.csv')\n",
    "tv_df.head()"
   ]
  },
  {
   "cell_type": "code",
   "execution_count": 68,
   "metadata": {},
   "outputs": [
    {
     "data": {
      "text/html": [
       "<div>\n",
       "<style scoped>\n",
       "    .dataframe tbody tr th:only-of-type {\n",
       "        vertical-align: middle;\n",
       "    }\n",
       "\n",
       "    .dataframe tbody tr th {\n",
       "        vertical-align: top;\n",
       "    }\n",
       "\n",
       "    .dataframe thead th {\n",
       "        text-align: right;\n",
       "    }\n",
       "</style>\n",
       "<table border=\"1\" class=\"dataframe\">\n",
       "  <thead>\n",
       "    <tr style=\"text-align: right;\">\n",
       "      <th></th>\n",
       "      <th>epoch</th>\n",
       "      <th>preds</th>\n",
       "      <th>labels</th>\n",
       "    </tr>\n",
       "  </thead>\n",
       "  <tbody>\n",
       "    <tr>\n",
       "      <th>0</th>\n",
       "      <td>0</td>\n",
       "      <td>85.878520</td>\n",
       "      <td>1.0</td>\n",
       "    </tr>\n",
       "    <tr>\n",
       "      <th>1</th>\n",
       "      <td>0</td>\n",
       "      <td>27.337646</td>\n",
       "      <td>0.0</td>\n",
       "    </tr>\n",
       "    <tr>\n",
       "      <th>2</th>\n",
       "      <td>0</td>\n",
       "      <td>22.156696</td>\n",
       "      <td>0.0</td>\n",
       "    </tr>\n",
       "    <tr>\n",
       "      <th>3</th>\n",
       "      <td>0</td>\n",
       "      <td>23.373160</td>\n",
       "      <td>0.0</td>\n",
       "    </tr>\n",
       "    <tr>\n",
       "      <th>4</th>\n",
       "      <td>0</td>\n",
       "      <td>7.616198</td>\n",
       "      <td>0.0</td>\n",
       "    </tr>\n",
       "  </tbody>\n",
       "</table>\n",
       "</div>"
      ],
      "text/plain": [
       "   epoch      preds  labels\n",
       "0      0  85.878520     1.0\n",
       "1      0  27.337646     0.0\n",
       "2      0  22.156696     0.0\n",
       "3      0  23.373160     0.0\n",
       "4      0   7.616198     0.0"
      ]
     },
     "execution_count": 68,
     "metadata": {},
     "output_type": "execute_result"
    }
   ],
   "source": [
    "rd_df = pd.read_csv(f'{model_path}/contrastive_learn/models/gru_sz_800_do_0.1_cd_0_dd_0_lr_0.001_l2_0.01/bs_1000_lr_1e-5_temp_0.01_pool_rand_day/train_preds.csv')\n",
    "rd_df.head()"
   ]
  },
  {
   "cell_type": "code",
   "execution_count": 52,
   "metadata": {},
   "outputs": [
    {
     "data": {
      "text/html": [
       "<div>\n",
       "<style scoped>\n",
       "    .dataframe tbody tr th:only-of-type {\n",
       "        vertical-align: middle;\n",
       "    }\n",
       "\n",
       "    .dataframe tbody tr th {\n",
       "        vertical-align: top;\n",
       "    }\n",
       "\n",
       "    .dataframe thead th {\n",
       "        text-align: right;\n",
       "    }\n",
       "</style>\n",
       "<table border=\"1\" class=\"dataframe\">\n",
       "  <thead>\n",
       "    <tr style=\"text-align: right;\">\n",
       "      <th></th>\n",
       "      <th>epoch</th>\n",
       "      <th>preds</th>\n",
       "      <th>labels</th>\n",
       "    </tr>\n",
       "  </thead>\n",
       "  <tbody>\n",
       "    <tr>\n",
       "      <th>0</th>\n",
       "      <td>0</td>\n",
       "      <td>85.373100</td>\n",
       "      <td>1.0</td>\n",
       "    </tr>\n",
       "    <tr>\n",
       "      <th>1</th>\n",
       "      <td>0</td>\n",
       "      <td>12.856348</td>\n",
       "      <td>0.0</td>\n",
       "    </tr>\n",
       "    <tr>\n",
       "      <th>2</th>\n",
       "      <td>0</td>\n",
       "      <td>18.913063</td>\n",
       "      <td>0.0</td>\n",
       "    </tr>\n",
       "    <tr>\n",
       "      <th>3</th>\n",
       "      <td>0</td>\n",
       "      <td>23.110601</td>\n",
       "      <td>0.0</td>\n",
       "    </tr>\n",
       "    <tr>\n",
       "      <th>4</th>\n",
       "      <td>0</td>\n",
       "      <td>16.379093</td>\n",
       "      <td>0.0</td>\n",
       "    </tr>\n",
       "  </tbody>\n",
       "</table>\n",
       "</div>"
      ],
      "text/plain": [
       "   epoch      preds  labels\n",
       "0      0  85.373100     1.0\n",
       "1      0  12.856348     0.0\n",
       "2      0  18.913063     0.0\n",
       "3      0  23.110601     0.0\n",
       "4      0  16.379093     0.0"
      ]
     },
     "execution_count": 52,
     "metadata": {},
     "output_type": "execute_result"
    }
   ],
   "source": [
    "dp_df = pd.read_csv(f'{model_path}/contrastive_learn/models/gru_sz_800_do_0.1_cd_0_dd_0_lr_0.001_l2_0.01/bs_2000_lr_1e-5_temp_0.01_pool_diff_pat/train_preds.csv')\n",
    "dp_df.head()"
   ]
  },
  {
   "cell_type": "code",
   "execution_count": 50,
   "metadata": {},
   "outputs": [
    {
     "data": {
      "text/html": [
       "<div>\n",
       "<style scoped>\n",
       "    .dataframe tbody tr th:only-of-type {\n",
       "        vertical-align: middle;\n",
       "    }\n",
       "\n",
       "    .dataframe tbody tr th {\n",
       "        vertical-align: top;\n",
       "    }\n",
       "\n",
       "    .dataframe thead th {\n",
       "        text-align: right;\n",
       "    }\n",
       "</style>\n",
       "<table border=\"1\" class=\"dataframe\">\n",
       "  <thead>\n",
       "    <tr style=\"text-align: right;\">\n",
       "      <th></th>\n",
       "      <th>epoch</th>\n",
       "      <th>preds</th>\n",
       "      <th>labels</th>\n",
       "    </tr>\n",
       "  </thead>\n",
       "  <tbody>\n",
       "    <tr>\n",
       "      <th>0</th>\n",
       "      <td>0</td>\n",
       "      <td>98.253470</td>\n",
       "      <td>1.0</td>\n",
       "    </tr>\n",
       "    <tr>\n",
       "      <th>1</th>\n",
       "      <td>0</td>\n",
       "      <td>24.721708</td>\n",
       "      <td>0.0</td>\n",
       "    </tr>\n",
       "    <tr>\n",
       "      <th>2</th>\n",
       "      <td>0</td>\n",
       "      <td>41.061886</td>\n",
       "      <td>0.0</td>\n",
       "    </tr>\n",
       "    <tr>\n",
       "      <th>3</th>\n",
       "      <td>0</td>\n",
       "      <td>38.873024</td>\n",
       "      <td>0.0</td>\n",
       "    </tr>\n",
       "    <tr>\n",
       "      <th>4</th>\n",
       "      <td>0</td>\n",
       "      <td>36.116350</td>\n",
       "      <td>0.0</td>\n",
       "    </tr>\n",
       "  </tbody>\n",
       "</table>\n",
       "</div>"
      ],
      "text/plain": [
       "   epoch      preds  labels\n",
       "0      0  98.253470     1.0\n",
       "1      0  24.721708     0.0\n",
       "2      0  41.061886     0.0\n",
       "3      0  38.873024     0.0\n",
       "4      0  36.116350     0.0"
      ]
     },
     "execution_count": 50,
     "metadata": {},
     "output_type": "execute_result"
    }
   ],
   "source": [
    "mr_df = pd.read_csv(f'{model_path}/contrastive_learn/models/gru_sz_800_do_0.1_cd_0_dd_0_lr_0.001_l2_0.01/bs_1000_lr_3e-5_temp_0.01_pool_mean_rep/train_preds.csv')\n",
    "mr_df.head()"
   ]
  },
  {
   "cell_type": "code",
   "execution_count": 63,
   "metadata": {},
   "outputs": [],
   "source": [
    "ocp_df = pd.read_csv(f'{model_path}/ocp/models/gru_sz_800_do_0.1_l2_0.1_lr_5e-5_pool_ocp/train_preds.csv')"
   ]
  },
  {
   "cell_type": "code",
   "execution_count": 53,
   "metadata": {},
   "outputs": [
    {
     "name": "stdout",
     "output_type": "stream",
     "text": [
      "[0.9694492139875458, 0.9867723685603775, 0.9983893873775603, 0.998607225714991, 0.9986735446970757, 0.9986935654966701, 0.9988368052560168, 0.998858241290786, 0.9988776086248786, 0.9989950042786884, 0.9990055891456511, 0.9990732831963212, 0.9990549493327848, 0.9990620239917924, 0.999159044506311, 0.9991846039265988, 0.9991846112075516, 0.9991585015292659, 0.9992449127856302, 0.9992004810753564]\n"
     ]
    },
    {
     "data": {
      "image/png": "[encoded data removed]",
      "text/plain": [
       "<Figure size 432x288 with 1 Axes>"
      ]
     },
     "metadata": {},
     "output_type": "display_data"
    }
   ],
   "source": [
    "epochs = list(tv_df['epoch'].unique())\n",
    "auroc = []\n",
    "for e in epochs:\n",
    "    df = tv_df.query('epoch == @e')\n",
    "    preds = list(df['preds'])\n",
    "    lbls = list(df['labels'])\n",
    "    auroc.append(roc_auc_score(lbls,preds))\n",
    "sns.lineplot(list(np.arange(1,len(epochs)+1)),auroc)\n",
    "plt.xticks(list(np.arange(1, len(epochs)+1, 5)))\n",
    "plt.axvline(x=20, ls='--', color='black')\n",
    "plt.savefig('figures/trivial_train_auroc.png',bbox_inches='tight')\n",
    "print(auroc)"
   ]
  },
  {
   "cell_type": "code",
   "execution_count": 69,
   "metadata": {},
   "outputs": [
    {
     "name": "stdout",
     "output_type": "stream",
     "text": [
      "[0.966553788412167, 0.9811318461580796, 0.9398079462453275, 0.9389694727902911, 0.9378215780134882, 0.9404755222759557, 0.9393154244063268, 0.9390270413673909, 0.9396062176694424, 0.9408269012242978, 0.9402489279225287, 0.9397986638735611, 0.9390880588520774, 0.9407908848162291, 0.9396172864739457, 0.9405353097500806, 0.9409060622772738, 0.9425378412352916, 0.9413199039427297, 0.9433182138725522, 0.9398360273541146, 0.9422470449869664, 0.9426910343864834, 0.9414891529318976]\n"
     ]
    },
    {
     "data": {
      "image/png": "[encoded data removed]",
      "text/plain": [
       "<Figure size 432x288 with 1 Axes>"
      ]
     },
     "metadata": {},
     "output_type": "display_data"
    }
   ],
   "source": [
    "epochs = list(rd_df['epoch'].unique())\n",
    "auroc = []\n",
    "for e in epochs:\n",
    "    df = rd_df.query('epoch == @e')\n",
    "    preds = list(df['preds'])\n",
    "    lbls = list(df['labels'])\n",
    "    auroc.append(roc_auc_score(lbls,preds))\n",
    "sns.lineplot(list(np.arange(1,len(epochs)+1)),auroc)\n",
    "plt.xticks(list(np.arange(1, len(epochs)+1, 5)))\n",
    "plt.axvline(x=20, ls='--', color='black')\n",
    "plt.savefig('figures/rand_day_train_auroc.png',bbox_inches='tight')\n",
    "print(auroc)"
   ]
  },
  {
   "cell_type": "code",
   "execution_count": 55,
   "metadata": {},
   "outputs": [
    {
     "name": "stdout",
     "output_type": "stream",
     "text": [
      "[0.9664662209962074, 0.9728286238523036, 0.9725641482096965, 0.972161605953052, 0.9715126763064929, 0.9704575307688494, 0.9711227986692528, 0.9704618531952056, 0.9710614962973063, 0.9697143293891559, 0.9697823338308411, 0.969053608696073, 0.9692570840557807, 0.9688399134318546, 0.9691293382821213, 0.9687256258372487, 0.969452680394649, 0.969324209958101, 0.9679141376025542, 0.9679734985652355, 0.9679623639822615, 0.9677915667152904, 0.9687069509476622, 0.9688400565511373, 0.9678283510126788, 0.9673926756276695, 0.9683683795232572, 0.9679130208621504, 0.9684614248306546, 0.9677688749543665, 0.9676344821861085, 0.9676944985133729, 0.9676804861380774, 0.9678557071476839, 0.9680657602670861, 0.9679615285984746]\n"
     ]
    },
    {
     "data": {
      "image/png": "[encoded data removed]",
      "text/plain": [
       "<Figure size 432x288 with 1 Axes>"
      ]
     },
     "metadata": {},
     "output_type": "display_data"
    }
   ],
   "source": [
    "epochs = list(dp_df['epoch'].unique())\n",
    "auroc = []\n",
    "for e in epochs:\n",
    "    df = dp_df.query('epoch == @e')\n",
    "    preds = list(df['preds'])\n",
    "    lbls = list(df['labels'])\n",
    "    auroc.append(roc_auc_score(lbls,preds))\n",
    "sns.lineplot(list(np.arange(1,len(epochs)+1)),auroc)\n",
    "plt.xticks(list(np.arange(1, len(epochs)+1, 5)))\n",
    "plt.axvline(x=30, ls='--', color='black')\n",
    "plt.savefig('figures/diff_pat_train_auroc.png',bbox_inches='tight')\n",
    "print(auroc)"
   ]
  },
  {
   "cell_type": "code",
   "execution_count": 56,
   "metadata": {},
   "outputs": [
    {
     "name": "stdout",
     "output_type": "stream",
     "text": [
      "[0.9998331775428588, 0.9999324831147913, 0.9999418210192741, 0.9999410732699437, 0.999951384900198, 0.9999565141026394, 0.999957037922157, 0.999963043850618, 0.999964667204885, 0.9999646104859061, 0.9999705479109812, 0.9999711653409298, 0.99996833229899, 0.9999759085518846, 0.9999753827769897, 0.9999757933410518, 0.9999815081398987, 0.9999796849721395, 0.9999807695678061, 0.9999732110306302, 0.999980092381526, 0.9999800309044625, 0.9999780738324631, 0.9999798430448436, 0.9999801162240937, 0.9999814157678732, 0.9999837842121573, 0.9999827595292523, 0.999985605528826, 0.9999874041891892, 0.9999832442933664, 0.9999824438400988, 0.9999819938165222, 0.99998349111413, 0.9999849890635303, 0.9999873827843253, 0.9999854538045803]\n"
     ]
    },
    {
     "data": {
      "image/png": "[encoded data removed]",
      "text/plain": [
       "<Figure size 432x288 with 1 Axes>"
      ]
     },
     "metadata": {},
     "output_type": "display_data"
    }
   ],
   "source": [
    "epochs = list(mr_df['epoch'].unique())\n",
    "auroc = []\n",
    "for e in epochs:\n",
    "    df = mr_df.query('epoch == @e')\n",
    "    preds = list(df['preds'])\n",
    "    lbls = list(df['labels'])\n",
    "    auroc.append(roc_auc_score(lbls,preds))\n",
    "sns.lineplot(list(np.arange(1,len(epochs)+1)),auroc)\n",
    "plt.xticks(list(np.arange(1, len(epochs)+1, 5)))\n",
    "plt.axvline(x=31, ls='--', color='black')\n",
    "plt.savefig('figures/mean_rep_train_auroc.png',bbox_inches='tight')\n",
    "print(auroc)"
   ]
  },
  {
   "cell_type": "code",
   "execution_count": 65,
   "metadata": {},
   "outputs": [
    {
     "data": {
      "image/png": "[encoded data removed]",
      "text/plain": [
       "<Figure size 432x288 with 1 Axes>"
      ]
     },
     "metadata": {},
     "output_type": "display_data"
    }
   ],
   "source": [
    "epochs = list(ocp_df['epoch'].unique())\n",
    "auroc = []\n",
    "for e in epochs:\n",
    "    df = ocp_df.query('epoch == @e')\n",
    "    preds = list(df['preds'])\n",
    "    lbls = list(df['labels'])\n",
    "    auroc.append(roc_auc_score(lbls,preds))\n",
    "sns.lineplot(list(np.arange(1,len(epochs)+1)),auroc)\n",
    "plt.axvline(x=17, ls='--', color='black')\n",
    "plt.xticks(list(np.arange(1, len(epochs), 5)))\n",
    "plt.savefig('figures/ocp_train_auroc.png',bbox_inches='tight')"
   ]
  },
  {
   "cell_type": "code",
   "execution_count": null,
   "metadata": {},
   "outputs": [],
   "source": []
  }
 ],
 "metadata": {
  "kernelspec": {
   "display_name": "conl",
   "language": "python",
   "name": "conl"
  },
  "language_info": {
   "codemirror_mode": {
    "name": "ipython",
    "version": 3
   },
   "file_extension": ".py",
   "mimetype": "text/x-python",
   "name": "python",
   "nbconvert_exporter": "python",
   "pygments_lexer": "ipython3",
   "version": "3.9.10"
  }
 },
 "nbformat": 4,
 "nbformat_minor": 2
}
