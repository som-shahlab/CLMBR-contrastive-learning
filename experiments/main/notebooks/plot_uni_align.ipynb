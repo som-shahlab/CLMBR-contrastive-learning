{
 "cells": [
  {
   "cell_type": "code",
   "execution_count": 25,
   "metadata": {},
   "outputs": [
    {
     "data": {
      "text/plain": [
       "<Figure size 432x288 with 0 Axes>"
      ]
     },
     "metadata": {},
     "output_type": "display_data"
    }
   ],
   "source": [
    "import numpy as np\n",
    "import pandas as pd\n",
    "from matplotlib import pyplot as plt\n",
    "from matplotlib.ticker import MaxNLocator\n",
    "from matplotlib.pyplot import savefig\n",
    "from matplotlib.ticker import FormatStrFormatter\n",
    "%matplotlib inline\n",
    "\n",
    "import seaborn as sns\n",
    "sns.set_style(\"ticks\")\n",
    "sns.set_context(context='paper',font_scale=1.2)\n",
    "sns.despine()\n",
    "\n",
    "import yaml\n",
    "import os\n",
    "from sklearn.model_selection import ParameterGrid\n",
    "import warnings\n",
    "warnings.filterwarnings('ignore')"
   ]
  },
  {
   "cell_type": "code",
   "execution_count": 26,
   "metadata": {},
   "outputs": [],
   "source": [
    "model_path = '/local-scratch/nigam/projects/jlemmon/cl-clmbr/experiments/main/artifacts/models'\n",
    "results_path = '/local-scratch/nigam/projects/jlemmon/cl-clmbr/experiments/main/artifacts/results'\n",
    "figure_path = '/local-scratch/nigam/projects/jlemmon/cl-clmbr/experiments/main/notebooks/figures'"
   ]
  },
  {
   "cell_type": "code",
   "execution_count": 27,
   "metadata": {},
   "outputs": [],
   "source": [
    "# Get baseline model\n",
    "bl_df = pd.read_csv(f'{results_path}/clmbr/pretrained/gru_sz_800_do_0.1_cd_0_dd_0_lr_0.001_l2_0.01/uni_align_eval.csv')\n",
    "bl_df['model'] = 'BL'\n"
   ]
  },
  {
   "cell_type": "code",
   "execution_count": 28,
   "metadata": {},
   "outputs": [
    {
     "data": {
      "text/html": [
       "<div>\n",
       "<style scoped>\n",
       "    .dataframe tbody tr th:only-of-type {\n",
       "        vertical-align: middle;\n",
       "    }\n",
       "\n",
       "    .dataframe tbody tr th {\n",
       "        vertical-align: top;\n",
       "    }\n",
       "\n",
       "    .dataframe thead th {\n",
       "        text-align: right;\n",
       "    }\n",
       "</style>\n",
       "<table border=\"1\" class=\"dataframe\">\n",
       "  <thead>\n",
       "    <tr style=\"text-align: right;\">\n",
       "      <th></th>\n",
       "      <th>Unnamed: 0</th>\n",
       "      <th>metric</th>\n",
       "      <th>lower_ci</th>\n",
       "      <th>med_ci</th>\n",
       "      <th>upper_ci</th>\n",
       "      <th>split</th>\n",
       "      <th>CLMBR</th>\n",
       "      <th>model</th>\n",
       "    </tr>\n",
       "  </thead>\n",
       "  <tbody>\n",
       "    <tr>\n",
       "      <th>2</th>\n",
       "      <td>2</td>\n",
       "      <td>alignment</td>\n",
       "      <td>0.134467</td>\n",
       "      <td>0.387717</td>\n",
       "      <td>0.704440</td>\n",
       "      <td>test</td>\n",
       "      <td>BL</td>\n",
       "      <td>BL</td>\n",
       "    </tr>\n",
       "    <tr>\n",
       "      <th>3</th>\n",
       "      <td>3</td>\n",
       "      <td>uniformity</td>\n",
       "      <td>-0.294651</td>\n",
       "      <td>-0.154549</td>\n",
       "      <td>-0.063624</td>\n",
       "      <td>test</td>\n",
       "      <td>BL</td>\n",
       "      <td>BL</td>\n",
       "    </tr>\n",
       "  </tbody>\n",
       "</table>\n",
       "</div>"
      ],
      "text/plain": [
       "   Unnamed: 0      metric  lower_ci    med_ci  upper_ci split CLMBR model\n",
       "2           2   alignment  0.134467  0.387717  0.704440  test    BL    BL\n",
       "3           3  uniformity -0.294651 -0.154549 -0.063624  test    BL    BL"
      ]
     },
     "execution_count": 28,
     "metadata": {},
     "output_type": "execute_result"
    }
   ],
   "source": [
    "bl_df.query('split == \"test\"')"
   ]
  },
  {
   "cell_type": "code",
   "execution_count": 29,
   "metadata": {},
   "outputs": [],
   "source": [
    "# Get best CL model by validation score for each task\n",
    "\n",
    "rd_df = pd.DataFrame()\n",
    "rd_df = pd.read_csv(f'{results_path}/clmbr/contrastive_learn/gru_sz_800_do_0.1_cd_0_dd_0_lr_0.001_l2_0.01/bs_3000_lr_0.001_temp_0.01_pool_rand_day/uni_align_eval.csv')\n",
    "rd_df['model'] = f'rand_day'"
   ]
  },
  {
   "cell_type": "code",
   "execution_count": 30,
   "metadata": {},
   "outputs": [
    {
     "data": {
      "text/html": [
       "<div>\n",
       "<style scoped>\n",
       "    .dataframe tbody tr th:only-of-type {\n",
       "        vertical-align: middle;\n",
       "    }\n",
       "\n",
       "    .dataframe tbody tr th {\n",
       "        vertical-align: top;\n",
       "    }\n",
       "\n",
       "    .dataframe thead th {\n",
       "        text-align: right;\n",
       "    }\n",
       "</style>\n",
       "<table border=\"1\" class=\"dataframe\">\n",
       "  <thead>\n",
       "    <tr style=\"text-align: right;\">\n",
       "      <th></th>\n",
       "      <th>Unnamed: 0</th>\n",
       "      <th>metric</th>\n",
       "      <th>lower_ci</th>\n",
       "      <th>med_ci</th>\n",
       "      <th>upper_ci</th>\n",
       "      <th>split</th>\n",
       "      <th>CLMBR</th>\n",
       "      <th>model</th>\n",
       "    </tr>\n",
       "  </thead>\n",
       "  <tbody>\n",
       "    <tr>\n",
       "      <th>2</th>\n",
       "      <td>2</td>\n",
       "      <td>alignment</td>\n",
       "      <td>0.310755</td>\n",
       "      <td>0.850753</td>\n",
       "      <td>1.546952</td>\n",
       "      <td>test</td>\n",
       "      <td>CL</td>\n",
       "      <td>rand_day</td>\n",
       "    </tr>\n",
       "    <tr>\n",
       "      <th>3</th>\n",
       "      <td>3</td>\n",
       "      <td>uniformity</td>\n",
       "      <td>-0.285601</td>\n",
       "      <td>-0.154549</td>\n",
       "      <td>-0.055559</td>\n",
       "      <td>test</td>\n",
       "      <td>CL</td>\n",
       "      <td>rand_day</td>\n",
       "    </tr>\n",
       "  </tbody>\n",
       "</table>\n",
       "</div>"
      ],
      "text/plain": [
       "   Unnamed: 0      metric  lower_ci    med_ci  upper_ci split CLMBR     model\n",
       "2           2   alignment  0.310755  0.850753  1.546952  test    CL  rand_day\n",
       "3           3  uniformity -0.285601 -0.154549 -0.055559  test    CL  rand_day"
      ]
     },
     "execution_count": 30,
     "metadata": {},
     "output_type": "execute_result"
    }
   ],
   "source": [
    "ed_df.query('split==\"test\"')"
   ]
  },
  {
   "cell_type": "code",
   "execution_count": 31,
   "metadata": {},
   "outputs": [],
   "source": [
    "# Get best CL model by validation score for each task\n",
    "\n",
    "mr_df = pd.DataFrame()\n",
    "mr_df = pd.read_csv(f'{results_path}/clmbr/contrastive_learn/gru_sz_800_do_0.1_cd_0_dd_0_lr_0.001_l2_0.01/bs_3000_lr_0.001_temp_0.01_pool_mean_rep/uni_align_eval.csv')\n",
    "mr_df['model'] = f'mean_rep'"
   ]
  },
  {
   "cell_type": "code",
   "execution_count": 32,
   "metadata": {},
   "outputs": [
    {
     "name": "stdout",
     "output_type": "stream",
     "text": [
      "   Unnamed: 0      metric  lower_ci    med_ci  upper_ci split CLMBR model\n",
      "2           2   alignment  0.253250  0.387717  0.316723  test    BL    BL\n",
      "3           3  uniformity  0.140102 -0.154549  0.090925  test    BL    BL\n",
      "   Unnamed: 0      metric  lower_ci    med_ci  upper_ci split CLMBR     model\n",
      "2           2   alignment  0.450738  0.711073  0.537125  test    RD  rand_day\n",
      "3           3  uniformity  0.122079 -0.154513  0.098954  test    RD  rand_day\n",
      "   Unnamed: 0      metric  lower_ci    med_ci  upper_ci split CLMBR     model\n",
      "2           2   alignment  0.441698  0.701506  0.561558  test    MR  mean_rep\n",
      "3           3  uniformity  0.131047 -0.154513  0.098954  test    MR  mean_rep\n"
     ]
    },
    {
     "data": {
      "image/png": "[encoded data removed]",
      "text/plain": [
       "<Figure size 720x864 with 1 Axes>"
      ]
     },
     "metadata": {},
     "output_type": "display_data"
    }
   ],
   "source": [
    "# For each task plot baseline vs CL\n",
    "fig, axes = plt.subplots(nrows=1, ncols=1, figsize=(10,12))\n",
    "plt.tight_layout(w_pad=1,h_pad=2,rect=[0.05,0.15,1,0.95])\n",
    "\n",
    "\n",
    "bl_evals = bl_df.query('split==\"test\"')\n",
    "rd_evals = rd_df.query('split==\"test\"')\n",
    "mr_evals = mr_df.query('split==\"test\"')\n",
    "\n",
    "bl_evals['upper_ci'] = (bl_evals['upper_ci'] - bl_evals['med_ci']).abs()\n",
    "bl_evals['lower_ci'] = (bl_evals['med_ci'] - bl_evals['lower_ci']).abs()\n",
    "\n",
    "print(bl_evals)\n",
    "\n",
    "rd_evals['upper_ci'] = (rd_evals['upper_ci'] - rd_evals['med_ci']).abs()\n",
    "rd_evals['lower_ci'] = (rd_evals['med_ci'] - rd_evals['lower_ci']).abs()\n",
    "\n",
    "print(rd_evals)\n",
    "\n",
    "mr_evals['upper_ci'] = (mr_evals['upper_ci'] - mr_evals['med_ci']).abs()\n",
    "mr_evals['lower_ci'] = (mr_evals['med_ci'] - mr_evals['lower_ci']).abs()\n",
    "\n",
    "print(mr_evals)\n",
    "\n",
    "p1 = axes.scatter(\n",
    "    bl_evals.query('metric==\"uniformity\"')['med_ci'],\n",
    "    bl_evals.query('metric==\"alignment\"')['med_ci'],\n",
    "    color = 'black'\n",
    ")\n",
    "\n",
    "axes.errorbar(\n",
    "    bl_evals.query('metric==\"uniformity\"')['med_ci'],\n",
    "    bl_evals.query('metric==\"alignment\"')['med_ci'],\n",
    "    bl_evals.query('metric==\"alignment\"')[['lower_ci', 'upper_ci']].values.T,\n",
    "    color='black'\n",
    ")\n",
    "\n",
    "axes.plot(\n",
    "    [bl_evals.query('metric==\"uniformity\"')['med_ci'] - bl_evals.query('metric==\"uniformity\"')['lower_ci'],bl_evals.query('metric==\"uniformity\"')['med_ci'] + bl_evals.query('metric==\"uniformity\"')['upper_ci']],\n",
    "    [bl_evals.query('metric==\"alignment\"')['med_ci'], bl_evals.query('metric==\"alignment\"')['med_ci']],\n",
    "    color='black'\n",
    ")\n",
    "\n",
    "p2 = axes.scatter(\n",
    "    rd_evals.query('metric==\"uniformity\"')['med_ci'],\n",
    "    rd_evals.query('metric==\"alignment\"')['med_ci'],\n",
    "    color = 'blue'\n",
    ")\n",
    "\n",
    "axes.errorbar(\n",
    "    rd_evals.query('metric==\"uniformity\"')['med_ci'],\n",
    "    rd_evals.query('metric==\"alignment\"')['med_ci'],\n",
    "    rd_evals.query('metric==\"alignment\"')[['lower_ci', 'upper_ci']].values.T,\n",
    "    color='blue'\n",
    ")\n",
    "\n",
    "axes.plot(\n",
    "    [rd_evals.query('metric==\"uniformity\"')['med_ci'] - rd_evals.query('metric==\"uniformity\"')['lower_ci'], rd_evals.query('metric==\"uniformity\"')['med_ci'] + rd_evals.query('metric==\"uniformity\"')['upper_ci']],\n",
    "    [rd_evals.query('metric==\"alignment\"')['med_ci'], rd_evals.query('metric==\"alignment\"')['med_ci']],\n",
    "    color='blue'\n",
    ")\n",
    "\n",
    "p3 = axes.scatter(\n",
    "    mr_evals.query('metric==\"uniformity\"')['med_ci'],\n",
    "    mr_evals.query('metric==\"alignment\"')['med_ci'],\n",
    "    color = 'red'\n",
    ")\n",
    "\n",
    "axes.errorbar(\n",
    "    mr_evals.query('metric==\"uniformity\"')['med_ci'],\n",
    "    mr_evals.query('metric==\"alignment\"')['med_ci'],\n",
    "    mr_evals.query('metric==\"alignment\"')[['lower_ci', 'upper_ci']].values.T,\n",
    "    color='red'\n",
    ")\n",
    "\n",
    "axes.plot(\n",
    "    [mr_evals.query('metric==\"uniformity\"')['med_ci'] - mr_evals.query('metric==\"uniformity\"')['lower_ci'], mr_evals.query('metric==\"uniformity\"')['med_ci'] + mr_evals.query('metric==\"uniformity\"')['upper_ci']],\n",
    "    [mr_evals.query('metric==\"alignment\"')['med_ci'], mr_evals.query('metric==\"alignment\"')['med_ci']],\n",
    "    color='red'\n",
    ")\n",
    "\n",
    "# axes.yaxis.set_major_locator(MaxNLocator(nbins=4,prune='both'))\n",
    "axes.grid(which='major', linewidth=0.5, axis='y')\n",
    "axes.grid(which='major', linewidth=0.5, axis='x')\n",
    "\n",
    "axes.set_title('Alignment and Uniformity of Patient Representation Models')\n",
    "\n",
    "\n",
    "axes.set_xlabel('Uniformity')\n",
    "# axes.spines['bottom'].set_color('white')\n",
    "# axes.tick_params(axis='x', length=0)  \n",
    "axes.set_ylabel('Alignment')\n",
    "axes.yaxis.set_major_formatter(FormatStrFormatter('%.2f'))\n",
    "axes.legend([p1,p2,p3],['Baseline','Random Day Contrastive Learn', 'Mean Representation Contrastive Learn'])\n",
    "\n",
    "\n",
    "# axes.spines['left'].set_color('white')\n",
    "# axes.tick_params(axis='y', length=0)\n",
    "# sns.despine(offset=10, trim=True,)\n",
    "\n",
    "\n",
    "plt.savefig('figures/uni_align_eval.png', bbox_inches='tight')\n",
    "plt.show()\n"
   ]
  },
  {
   "cell_type": "code",
   "execution_count": null,
   "metadata": {},
   "outputs": [],
   "source": []
  }
 ],
 "metadata": {
  "kernelspec": {
   "display_name": "conl",
   "language": "python",
   "name": "conl"
  },
  "language_info": {
   "codemirror_mode": {
    "name": "ipython",
    "version": 3
   },
   "file_extension": ".py",
   "mimetype": "text/x-python",
   "name": "python",
   "nbconvert_exporter": "python",
   "pygments_lexer": "ipython3",
   "version": "3.9.10"
  }
 },
 "nbformat": 4,
 "nbformat_minor": 2
}
