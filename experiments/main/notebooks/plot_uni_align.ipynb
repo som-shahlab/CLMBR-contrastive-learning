{
 "cells": [
  {
   "cell_type": "code",
   "execution_count": 1,
   "metadata": {},
   "outputs": [
    {
     "data": {
      "text/plain": [
       "<Figure size 432x288 with 0 Axes>"
      ]
     },
     "metadata": {},
     "output_type": "display_data"
    }
   ],
   "source": [
    "import numpy as np\n",
    "import pandas as pd\n",
    "from matplotlib import pyplot as plt\n",
    "from matplotlib.ticker import MaxNLocator\n",
    "from matplotlib.pyplot import savefig\n",
    "from matplotlib.ticker import FormatStrFormatter\n",
    "%matplotlib inline\n",
    "\n",
    "import seaborn as sns\n",
    "sns.set_style(\"ticks\")\n",
    "sns.set_context(context='paper',font_scale=1.2)\n",
    "sns.despine()\n",
    "\n",
    "import yaml\n",
    "import os\n",
    "from sklearn.model_selection import ParameterGrid\n",
    "import warnings\n",
    "warnings.filterwarnings('ignore')"
   ]
  },
  {
   "cell_type": "code",
   "execution_count": 2,
   "metadata": {},
   "outputs": [],
   "source": [
    "model_path = '/local-scratch/nigam/projects/jlemmon/cl-clmbr/experiments/main/artifacts/models'\n",
    "results_path = '/local-scratch/nigam/projects/jlemmon/cl-clmbr/experiments/main/artifacts/results'\n",
    "figure_path = '/local-scratch/nigam/projects/jlemmon/cl-clmbr/experiments/main/notebooks/figures'\n",
    "\n",
    "\n"
   ]
  },
  {
   "cell_type": "code",
   "execution_count": 60,
   "metadata": {},
   "outputs": [],
   "source": [
    "y_axis = {\n",
    "    'auc':{\n",
    "        'lim':[0.75, 1.0],\n",
    "        'label':'AUROC'\n",
    "    },\n",
    "    'auprc':{\n",
    "        'lim':[0.1, 0.85],\n",
    "        'label':'AUPRC'\n",
    "    },\n",
    "    'ace_abs_logistic_log':{\n",
    "        'lim':[-0.001, 0.078],\n",
    "        'label':'Calibration'\n",
    "    }\n",
    "}"
   ]
  },
  {
   "cell_type": "code",
   "execution_count": 5,
   "metadata": {},
   "outputs": [],
   "source": [
    "# Get baseline model\n",
    "bl_df = pd.read_csv(f'{results_path}/clmbr/pretrained/gru_sz_800_do_0.1_cd_0_dd_0_lr_0.001_l2_0.01/uni_align_eval.csv')\n",
    "bl_df['model'] = 'BL'\n"
   ]
  },
  {
   "cell_type": "code",
   "execution_count": 8,
   "metadata": {},
   "outputs": [
    {
     "data": {
      "text/html": [
       "<div>\n",
       "<style scoped>\n",
       "    .dataframe tbody tr th:only-of-type {\n",
       "        vertical-align: middle;\n",
       "    }\n",
       "\n",
       "    .dataframe tbody tr th {\n",
       "        vertical-align: top;\n",
       "    }\n",
       "\n",
       "    .dataframe thead th {\n",
       "        text-align: right;\n",
       "    }\n",
       "</style>\n",
       "<table border=\"1\" class=\"dataframe\">\n",
       "  <thead>\n",
       "    <tr style=\"text-align: right;\">\n",
       "      <th></th>\n",
       "      <th>Unnamed: 0</th>\n",
       "      <th>metric</th>\n",
       "      <th>lower_ci</th>\n",
       "      <th>med_ci</th>\n",
       "      <th>upper_ci</th>\n",
       "      <th>split</th>\n",
       "      <th>CLMBR</th>\n",
       "      <th>model</th>\n",
       "    </tr>\n",
       "  </thead>\n",
       "  <tbody>\n",
       "    <tr>\n",
       "      <th>2</th>\n",
       "      <td>2</td>\n",
       "      <td>alignment</td>\n",
       "      <td>1.277014</td>\n",
       "      <td>1.325404</td>\n",
       "      <td>1.373794</td>\n",
       "      <td>test</td>\n",
       "      <td>BL</td>\n",
       "      <td>BL</td>\n",
       "    </tr>\n",
       "    <tr>\n",
       "      <th>3</th>\n",
       "      <td>3</td>\n",
       "      <td>uniformity</td>\n",
       "      <td>-1.149100</td>\n",
       "      <td>-1.065374</td>\n",
       "      <td>-0.981647</td>\n",
       "      <td>test</td>\n",
       "      <td>BL</td>\n",
       "      <td>BL</td>\n",
       "    </tr>\n",
       "  </tbody>\n",
       "</table>\n",
       "</div>"
      ],
      "text/plain": [
       "   Unnamed: 0      metric  lower_ci    med_ci  upper_ci split CLMBR model\n",
       "2           2   alignment  1.277014  1.325404  1.373794  test    BL    BL\n",
       "3           3  uniformity -1.149100 -1.065374 -0.981647  test    BL    BL"
      ]
     },
     "execution_count": 8,
     "metadata": {},
     "output_type": "execute_result"
    }
   ],
   "source": [
    "bl_df.query('split == \"test\"')"
   ]
  },
  {
   "cell_type": "code",
   "execution_count": 9,
   "metadata": {},
   "outputs": [],
   "source": [
    "cl_grid = list(\n",
    "    ParameterGrid(\n",
    "        yaml.load(\n",
    "            open(\n",
    "                f\"{os.path.join('/local-scratch/nigam/projects/jlemmon/cl-clmbr/experiments/main/artifacts/models/clmbr/contrastive_learn/models/gru_sz_800_do_0.1_cd_0_dd_0_lr_0.001_l2_0.01/best','hyperparams')}.yml\",\n",
    "                'r'\n",
    "            ),\n",
    "            Loader=yaml.FullLoader\n",
    "        )\n",
    "    )\n",
    ")"
   ]
  },
  {
   "cell_type": "code",
   "execution_count": 10,
   "metadata": {},
   "outputs": [],
   "source": [
    "# Get best CL model by validation score for each task\n",
    "\n",
    "cl_df = pd.DataFrame()\n",
    "for i, hp in enumerate(cl_grid):\n",
    "#         df = pd.read_csv(f'{results_path}/{task}/probes/contrastive_learn/gru_sz_800_do_0.1_cd_0_dd_0_lr_0.001_l2_0.01/bs_{hp[\"batch_size\"]}_lr_{hp[\"lr\"]}_temp_{hp[\"temp\"]}_pool_rand_day/eval.csv')\n",
    "    cl_df = pd.read_csv(f'{results_path}/clmbr/contrastive_learn/gru_sz_800_do_0.1_cd_0_dd_0_lr_0.001_l2_0.01/bs_3000_lr_0.001_temp_0.01_pool_rand_day/uni_align_eval.csv')\n",
    "    cl_df['model'] = f'CL'"
   ]
  },
  {
   "cell_type": "code",
   "execution_count": 11,
   "metadata": {},
   "outputs": [
    {
     "data": {
      "text/html": [
       "<div>\n",
       "<style scoped>\n",
       "    .dataframe tbody tr th:only-of-type {\n",
       "        vertical-align: middle;\n",
       "    }\n",
       "\n",
       "    .dataframe tbody tr th {\n",
       "        vertical-align: top;\n",
       "    }\n",
       "\n",
       "    .dataframe thead th {\n",
       "        text-align: right;\n",
       "    }\n",
       "</style>\n",
       "<table border=\"1\" class=\"dataframe\">\n",
       "  <thead>\n",
       "    <tr style=\"text-align: right;\">\n",
       "      <th></th>\n",
       "      <th>Unnamed: 0</th>\n",
       "      <th>metric</th>\n",
       "      <th>lower_ci</th>\n",
       "      <th>med_ci</th>\n",
       "      <th>upper_ci</th>\n",
       "      <th>split</th>\n",
       "      <th>CLMBR</th>\n",
       "      <th>model</th>\n",
       "    </tr>\n",
       "  </thead>\n",
       "  <tbody>\n",
       "    <tr>\n",
       "      <th>2</th>\n",
       "      <td>2</td>\n",
       "      <td>alignment</td>\n",
       "      <td>2.443621</td>\n",
       "      <td>2.531843</td>\n",
       "      <td>2.620066</td>\n",
       "      <td>test</td>\n",
       "      <td>CL</td>\n",
       "      <td>CL</td>\n",
       "    </tr>\n",
       "    <tr>\n",
       "      <th>3</th>\n",
       "      <td>3</td>\n",
       "      <td>uniformity</td>\n",
       "      <td>-1.546581</td>\n",
       "      <td>-1.429139</td>\n",
       "      <td>-1.311698</td>\n",
       "      <td>test</td>\n",
       "      <td>CL</td>\n",
       "      <td>CL</td>\n",
       "    </tr>\n",
       "  </tbody>\n",
       "</table>\n",
       "</div>"
      ],
      "text/plain": [
       "   Unnamed: 0      metric  lower_ci    med_ci  upper_ci split CLMBR model\n",
       "2           2   alignment  2.443621  2.531843  2.620066  test    CL    CL\n",
       "3           3  uniformity -1.546581 -1.429139 -1.311698  test    CL    CL"
      ]
     },
     "execution_count": 11,
     "metadata": {},
     "output_type": "execute_result"
    }
   ],
   "source": [
    "cl_df.query('split==\"test\"')"
   ]
  },
  {
   "cell_type": "code",
   "execution_count": 40,
   "metadata": {},
   "outputs": [
    {
     "name": "stdout",
     "output_type": "stream",
     "text": [
      "   Unnamed: 0      metric  lower_ci    med_ci  upper_ci split CLMBR model\n",
      "2           2   alignment  0.048390  1.325404  0.048390  test    BL    BL\n",
      "3           3  uniformity  0.083727 -1.065374  0.083727  test    BL    BL\n",
      "   Unnamed: 0      metric  lower_ci    med_ci  upper_ci split CLMBR model\n",
      "2           2   alignment  0.088223  2.531843  0.088223  test    CL    CL\n",
      "3           3  uniformity  0.117441 -1.429139  0.117441  test    CL    CL\n"
     ]
    },
    {
     "data": {
      "image/png": "[encoded data removed]",
      "text/plain": [
       "<Figure size 720x864 with 1 Axes>"
      ]
     },
     "metadata": {},
     "output_type": "display_data"
    }
   ],
   "source": [
    "# For each task plot baseline vs CL\n",
    "fig, axes = plt.subplots(nrows=1, ncols=1, figsize=(10,12))\n",
    "plt.tight_layout(w_pad=1,h_pad=2,rect=[0.05,0.15,1,0.95])\n",
    "\n",
    "\n",
    "bl_evals = bl_df.query('split==\"test\"')\n",
    "cl_evals = cl_df.query('split==\"test\"')\n",
    "\n",
    "bl_evals['upper_ci'] = (bl_evals['upper_ci'] - bl_evals['med_ci']).abs()\n",
    "bl_evals['lower_ci'] = (bl_evals['med_ci'] - bl_evals['lower_ci']).abs()\n",
    "\n",
    "print(bl_evals)\n",
    "\n",
    "cl_evals['upper_ci'] = (cl_evals['upper_ci'] - cl_evals['med_ci']).abs()\n",
    "cl_evals['lower_ci'] = (cl_evals['med_ci'] - cl_evals['lower_ci']).abs()\n",
    "\n",
    "print(cl_evals)\n",
    "\n",
    "p1 = axes.scatter(\n",
    "    bl_evals.query('metric==\"uniformity\"')['med_ci'],\n",
    "    bl_evals.query('metric==\"alignment\"')['med_ci'],\n",
    "    color = 'blue'\n",
    ")\n",
    "\n",
    "axes.errorbar(\n",
    "    bl_evals.query('metric==\"uniformity\"')['med_ci'],\n",
    "    bl_evals.query('metric==\"alignment\"')['med_ci'],\n",
    "    bl_evals.query('metric==\"alignment\"')[['lower_ci', 'upper_ci']].values.T,\n",
    "    color='blue'\n",
    ")\n",
    "\n",
    "axes.plot(\n",
    "    [bl_evals.query('metric==\"uniformity\"')['med_ci'] - bl_evals.query('metric==\"uniformity\"')['lower_ci'],bl_evals.query('metric==\"uniformity\"')['med_ci'] + bl_evals.query('metric==\"uniformity\"')['upper_ci']],\n",
    "    [bl_evals.query('metric==\"alignment\"')['med_ci'], bl_evals.query('metric==\"alignment\"')['med_ci']],\n",
    "    color='blue'\n",
    ")\n",
    "\n",
    "p2 = axes.scatter(\n",
    "    cl_evals.query('metric==\"uniformity\"')['med_ci'],\n",
    "    cl_evals.query('metric==\"alignment\"')['med_ci'],\n",
    "    color = 'black'\n",
    ")\n",
    "\n",
    "axes.errorbar(\n",
    "    cl_evals.query('metric==\"uniformity\"')['med_ci'],\n",
    "    cl_evals.query('metric==\"alignment\"')['med_ci'],\n",
    "    cl_evals.query('metric==\"alignment\"')[['lower_ci', 'upper_ci']].values.T,\n",
    "    color='black'\n",
    ")\n",
    "\n",
    "axes.plot(\n",
    "    [cl_evals.query('metric==\"uniformity\"')['med_ci'] - cl_evals.query('metric==\"uniformity\"')['lower_ci'], cl_evals.query('metric==\"uniformity\"')['med_ci'] + cl_evals.query('metric==\"uniformity\"')['upper_ci']],\n",
    "    [cl_evals.query('metric==\"alignment\"')['med_ci'], cl_evals.query('metric==\"alignment\"')['med_ci']],\n",
    "    color='black'\n",
    ")\n",
    "\n",
    "# axes.yaxis.set_major_locator(MaxNLocator(nbins=4,prune='both'))\n",
    "axes.grid(which='major', linewidth=0.5, axis='y')\n",
    "axes.grid(which='major', linewidth=0.5, axis='x')\n",
    "\n",
    "axes.set_title('Alignment and Uniformity of Patient Representation Models')\n",
    "\n",
    "\n",
    "axes.set_xlabel('Uniformity')\n",
    "# axes.spines['bottom'].set_color('white')\n",
    "# axes.tick_params(axis='x', length=0)  \n",
    "axes.set_ylabel('Alignment')\n",
    "axes.yaxis.set_major_formatter(FormatStrFormatter('%.2f'))\n",
    "axes.legend([p1,p2],['Baseline','Random Day Contrastive Learn'])\n",
    "\n",
    "\n",
    "# axes.spines['left'].set_color('white')\n",
    "# axes.tick_params(axis='y', length=0)\n",
    "# sns.despine(offset=10, trim=True,)\n",
    "\n",
    "\n",
    "plt.savefig('figures/uni_align_eval.png', bbox_inches='tight')\n",
    "plt.show()\n"
   ]
  },
  {
   "cell_type": "code",
   "execution_count": null,
   "metadata": {},
   "outputs": [],
   "source": []
  }
 ],
 "metadata": {
  "kernelspec": {
   "display_name": "conl",
   "language": "python",
   "name": "conl"
  },
  "language_info": {
   "codemirror_mode": {
    "name": "ipython",
    "version": 3
   },
   "file_extension": ".py",
   "mimetype": "text/x-python",
   "name": "python",
   "nbconvert_exporter": "python",
   "pygments_lexer": "ipython3",
   "version": "3.9.10"
  }
 },
 "nbformat": 4,
 "nbformat_minor": 2
}
