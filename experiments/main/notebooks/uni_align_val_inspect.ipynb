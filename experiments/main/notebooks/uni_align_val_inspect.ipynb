{
 "cells": [
  {
   "cell_type": "code",
   "execution_count": 9,
   "metadata": {},
   "outputs": [
    {
     "data": {
      "text/plain": [
       "<Figure size 432x288 with 0 Axes>"
      ]
     },
     "metadata": {},
     "output_type": "display_data"
    }
   ],
   "source": [
    "import numpy as np\n",
    "import pandas as pd\n",
    "from matplotlib import pyplot as plt\n",
    "from matplotlib.ticker import MaxNLocator\n",
    "from matplotlib.pyplot import savefig\n",
    "from matplotlib.ticker import FormatStrFormatter\n",
    "%matplotlib inline\n",
    "\n",
    "import seaborn as sns\n",
    "sns.set_style(\"ticks\")\n",
    "sns.set_context(context='paper',font_scale=1.2)\n",
    "sns.despine()\n",
    "\n",
    "import yaml\n",
    "import os\n",
    "from sklearn.model_selection import ParameterGrid\n",
    "import warnings\n",
    "warnings.filterwarnings('ignore')"
   ]
  },
  {
   "cell_type": "code",
   "execution_count": 10,
   "metadata": {},
   "outputs": [],
   "source": [
    "model_path = '/local-scratch/nigam/projects/jlemmon/cl-clmbr/experiments/main/artifacts/models'\n",
    "results_path = '/local-scratch/nigam/projects/jlemmon/cl-clmbr/experiments/main/artifacts/results'\n",
    "figure_path = '/local-scratch/nigam/projects/jlemmon/cl-clmbr/experiments/main/notebooks/figures'"
   ]
  },
  {
   "cell_type": "code",
   "execution_count": 11,
   "metadata": {},
   "outputs": [],
   "source": [
    "# Get baseline model\n",
    "bl_df = pd.read_csv(f'{results_path}/clmbr/pretrained/gru_sz_800_do_0.1_cd_0_dd_0_lr_0.001_l2_0.01/test_align_vals.csv')\n",
    "bl_align_vals = sorted(bl_df.to_numpy()[:,1])\n",
    "# Get best CL model by validation score for each task\n",
    "rd_df = pd.read_csv(f'{results_path}/clmbr/contrastive_learn/gru_sz_800_do_0.1_cd_0_dd_0_lr_0.001_l2_0.01/bs_3000_lr_0.001_temp_0.01_pool_rand_day/test_align_vals.csv')\n",
    "rd_align_vals = sorted(rd_df.to_numpy()[:,1])\n",
    "# Get best CL model by validation score for each task\n",
    "mr_df = pd.read_csv(f'{results_path}/clmbr/contrastive_learn/gru_sz_800_do_0.1_cd_0_dd_0_lr_0.001_l2_0.01/bs_3000_lr_0.001_temp_0.01_pool_mean_rep/test_align_vals.csv')\n",
    "mr_align_vals = sorted(mr_df.to_numpy()[:,1])"
   ]
  },
  {
   "cell_type": "code",
   "execution_count": 12,
   "metadata": {},
   "outputs": [],
   "source": [
    "# Get baseline model\n",
    "bl_df = pd.read_csv(f'{results_path}/clmbr/pretrained/gru_sz_800_do_0.1_cd_0_dd_0_lr_0.001_l2_0.01/test_align_vals_neg.csv')\n",
    "bl_align_vals_neg = sorted(bl_df.to_numpy()[:,1])\n",
    "# Get best CL model by validation score for each task\n",
    "rd_df = pd.read_csv(f'{results_path}/clmbr/contrastive_learn/gru_sz_800_do_0.1_cd_0_dd_0_lr_0.001_l2_0.01/bs_3000_lr_0.001_temp_0.01_pool_rand_day/test_align_vals_neg.csv')\n",
    "rd_align_vals_neg = sorted(rd_df.to_numpy()[:,1])\n",
    "# Get best CL model by validation score for each task\n",
    "mr_df = pd.read_csv(f'{results_path}/clmbr/contrastive_learn/gru_sz_800_do_0.1_cd_0_dd_0_lr_0.001_l2_0.01/bs_3000_lr_0.001_temp_0.01_pool_mean_rep/test_align_vals_neg.csv')\n",
    "mr_align_vals_neg = sorted(mr_df.to_numpy()[:,1])"
   ]
  },
  {
   "cell_type": "code",
   "execution_count": 18,
   "metadata": {},
   "outputs": [
    {
     "data": {
      "image/png": "[encoded data removed]",
      "text/plain": [
       "<Figure size 432x288 with 6 Axes>"
      ]
     },
     "metadata": {},
     "output_type": "display_data"
    }
   ],
   "source": [
    "n_bins = 20\n",
    "fig, axes = plt.subplots(6,1, sharex=True, tight_layout=True)\n",
    "axes[0].hist(bl_align_vals, bins=n_bins, color='green')\n",
    "axes[1].hist(rd_align_vals, bins=n_bins, color='green')\n",
    "axes[2].hist(mr_align_vals, bins=n_bins, color='green')\n",
    "axes[3].hist(bl_align_vals_neg, bins=n_bins, color='red')\n",
    "axes[4].hist(rd_align_vals_neg, bins=n_bins, color='red')\n",
    "axes[5].hist(mr_align_vals_neg, bins=n_bins, color='red')\n",
    "plt.savefig('figures/align_hist.png', bbox_inches='tight')"
   ]
  },
  {
   "cell_type": "code",
   "execution_count": 16,
   "metadata": {},
   "outputs": [],
   "source": [
    "# Get baseline model\n",
    "bl_df = pd.read_csv(f'{results_path}/clmbr/pretrained/gru_sz_800_do_0.1_cd_0_dd_0_lr_0.001_l2_0.01/test_uniform_vals.csv')\n",
    "bl_uni_vals = sorted(bl_df.to_numpy()[:,1])\n",
    "# Get best CL model by validation score for each task\n",
    "rd_df = pd.read_csv(f'{results_path}/clmbr/contrastive_learn/gru_sz_800_do_0.1_cd_0_dd_0_lr_0.001_l2_0.01/bs_3000_lr_0.001_temp_0.01_pool_rand_day/test_uniform_vals.csv')\n",
    "rd_uni_vals = sorted(rd_df.to_numpy()[:,1])\n",
    "# Get best CL model by validation score for each task\n",
    "mr_df = pd.read_csv(f'{results_path}/clmbr/contrastive_learn/gru_sz_800_do_0.1_cd_0_dd_0_lr_0.001_l2_0.01/bs_3000_lr_0.001_temp_0.01_pool_mean_rep/test_uniform_vals.csv')\n",
    "mr_uni_vals = sorted(mr_df.to_numpy()[:,1])\n",
    "# Get baseline model\n",
    "bl_df = pd.read_csv(f'{results_path}/clmbr/pretrained/gru_sz_800_do_0.1_cd_0_dd_0_lr_0.001_l2_0.01/test_uniform_vals_neg.csv')\n",
    "bl_uni_vals_neg = sorted(bl_df.to_numpy()[:,1])\n",
    "# Get best CL model by validation score for each task\n",
    "rd_df = pd.read_csv(f'{results_path}/clmbr/contrastive_learn/gru_sz_800_do_0.1_cd_0_dd_0_lr_0.001_l2_0.01/bs_3000_lr_0.001_temp_0.01_pool_rand_day/test_uniform_vals_neg.csv')\n",
    "rd_uni_vals_neg = sorted(rd_df.to_numpy()[:,1])\n",
    "# Get best CL model by validation score for each task\n",
    "mr_df = pd.read_csv(f'{results_path}/clmbr/contrastive_learn/gru_sz_800_do_0.1_cd_0_dd_0_lr_0.001_l2_0.01/bs_3000_lr_0.001_temp_0.01_pool_mean_rep/test_uniform_vals_neg.csv')\n",
    "mr_uni_vals_neg = sorted(mr_df.to_numpy()[:,1])"
   ]
  },
  {
   "cell_type": "code",
   "execution_count": 19,
   "metadata": {},
   "outputs": [
    {
     "data": {
      "image/png": "[encoded data removed]",
      "text/plain": [
       "<Figure size 432x288 with 6 Axes>"
      ]
     },
     "metadata": {},
     "output_type": "display_data"
    }
   ],
   "source": [
    "n_bins = 20\n",
    "fig, axes = plt.subplots(6,1, sharex=True, tight_layout=True)\n",
    "axes[0].hist(bl_uni_vals, bins=n_bins, color='green')\n",
    "axes[1].hist(rd_uni_vals, bins=n_bins, color='green')\n",
    "axes[2].hist(mr_uni_vals, bins=n_bins, color='green')\n",
    "axes[3].hist(bl_uni_vals, bins=n_bins, color='red')\n",
    "axes[4].hist(rd_uni_vals, bins=n_bins, color='red')\n",
    "axes[5].hist(mr_uni_vals, bins=n_bins, color='red')\n",
    "plt.savefig('figures/uni_hist.png', bbox_inches='tight')"
   ]
  },
  {
   "cell_type": "code",
   "execution_count": null,
   "metadata": {},
   "outputs": [],
   "source": [
    "n_bins = 20\n",
    "fig, axes = plt.subplots(3,1, sharex=True, tight_layout=True)\n",
    "axes[0].hist(bl_uni_vals, bins=n_bins)\n",
    "axes[1].hist(rd_uni_vals, bins=n_bins)\n",
    "axes[2].hist(mr_uni_vals, bins=n_bins)"
   ]
  }
 ],
 "metadata": {
  "kernelspec": {
   "display_name": "conl",
   "language": "python",
   "name": "conl"
  },
  "language_info": {
   "codemirror_mode": {
    "name": "ipython",
    "version": 3
   },
   "file_extension": ".py",
   "mimetype": "text/x-python",
   "name": "python",
   "nbconvert_exporter": "python",
   "pygments_lexer": "ipython3",
   "version": "3.9.10"
  }
 },
 "nbformat": 4,
 "nbformat_minor": 2
}
