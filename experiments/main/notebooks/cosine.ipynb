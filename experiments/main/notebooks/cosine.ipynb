{
 "cells": [
  {
   "cell_type": "code",
   "execution_count": 44,
   "metadata": {},
   "outputs": [
    {
     "data": {
      "text/plain": [
       "<Figure size 432x288 with 0 Axes>"
      ]
     },
     "metadata": {},
     "output_type": "display_data"
    }
   ],
   "source": [
    "import numpy as np\n",
    "import pandas as pd\n",
    "from matplotlib import pyplot as plt\n",
    "from matplotlib.ticker import MaxNLocator\n",
    "from matplotlib.pyplot import savefig\n",
    "from matplotlib.ticker import FormatStrFormatter\n",
    "%matplotlib inline\n",
    "\n",
    "import seaborn as sns\n",
    "sns.set_style(\"ticks\")\n",
    "sns.set_context(context='paper',font_scale=1.2)\n",
    "sns.despine()\n",
    "\n",
    "import ehr_ml.timeline\n",
    "import ehr_ml.ontology\n",
    "import ehr_ml.index\n",
    "import ehr_ml.labeler\n",
    "import ehr_ml.clmbr\n",
    "from ehr_ml.clmbr import Trainer\n",
    "from ehr_ml.clmbr import PatientTimelineDataset\n",
    "from ehr_ml.clmbr.dataset import DataLoader\n",
    "\n",
    "import torch\n",
    "import torch.nn as nn\n",
    "import torch.nn.functional as F\n",
    "import torch.optim as optim\n",
    "\n",
    "import yaml\n",
    "import os\n",
    "from sklearn.model_selection import ParameterGrid\n",
    "import warnings\n",
    "warnings.filterwarnings('ignore')\n"
   ]
  },
  {
   "cell_type": "code",
   "execution_count": 45,
   "metadata": {},
   "outputs": [],
   "source": [
    "model_path = '/local-scratch/nigam/projects/jlemmon/cl-clmbr/experiments/main/artifacts/models/clmbr'\n",
    "results_path = '/local-scratch/nigam/projects/jlemmon/cl-clmbr/experiments/main/artifacts/results'\n",
    "figure_path = '/local-scratch/nigam/projects/jlemmon/cl-clmbr/experiments/main/notebooks/figures'\n",
    "extract_path = '/local-scratch/nigam/projects/jlemmon/cl-clmbr/experiments/main/data/extracts/20210723'\n",
    "cohort_path = '/local-scratch/nigam/projects/jlemmon/cl-clmbr/experiments/main/data/cohort'\n",
    "hparams_path = '/local-scratch/nigam/projects/jlemmon/cl-clmbr/experiments/main/hyperparams'\n",
    "\n",
    "data_path = f'/local-scratch/nigam/projects/jlemmon/cl-clmbr/experiments/main/data/labelled_data/hospital_mortality/pretrained/gru_sz_800_do_0.1_cd_0_dd_0_lr_0.001_l2_0.01'\n",
    "\n",
    "bl_model_path = f'{model_path}/pretrained/models/gru_sz_800_do_0.1_cd_0_dd_0_lr_0.001_l2_0.01'\n",
    "cl_model_path = f'{model_path}/contrastive_learn/model/gru_sz_800_do_0.1_cd_0_dd_0_lr_0.001_l2_0.01/'"
   ]
  },
  {
   "cell_type": "code",
   "execution_count": 46,
   "metadata": {},
   "outputs": [],
   "source": [
    "train_pids = pd.read_csv(f'{data_path}/ehr_ml_patient_ids_train.csv')\n",
    "val_pids = pd.read_csv(f'{data_path}/ehr_ml_patient_ids_val.csv')\n",
    "test_pids = pd.read_csv(f'{data_path}/ehr_ml_patient_ids_test.csv')\n",
    "\n",
    "train_days = pd.read_csv(f'{data_path}/day_indices_train.csv')\n",
    "val_days = pd.read_csv(f'{data_path}/day_indices_val.csv')\n",
    "test_days = pd.read_csv(f'{data_path}/day_indices_test.csv')\n",
    "\n",
    "train_labels = pd.read_csv(f'{data_path}/labels_train.csv')\n",
    "val_labels = pd.read_csv(f'{data_path}/labels_val.csv')\n",
    "test_labels = pd.read_csv(f'{data_path}/labels_test.csv')\n",
    "\n",
    "train_data = (train_labels.to_numpy().flatten(),train_pids.to_numpy().flatten(),train_days.to_numpy().flatten())\n",
    "val_data = (val_labels.to_numpy().flatten(),val_pids.to_numpy().flatten(),val_days.to_numpy().flatten())\n",
    "test_data = (test_labels.to_numpy().flatten(),test_pids.to_numpy().flatten(),test_days.to_numpy().flatten())\n",
    "\n",
    "dataset = PatientTimelineDataset( f'{extract_path}/extract.db', f'{extract_path}/ontology.db', f'{bl_model_path}/info.json', train_data, test_data )"
   ]
  },
  {
   "cell_type": "code",
   "execution_count": 50,
   "metadata": {},
   "outputs": [],
   "source": [
    "cl_grid = list(\n",
    "    ParameterGrid(\n",
    "        yaml.load(\n",
    "            open(\n",
    "                f\"{os.path.join('/local-scratch/nigam/projects/jlemmon/cl-clmbr/experiments/main/artifacts/models/clmbr/contrastive_learn/models/gru_sz_800_do_0.1_cd_0_dd_0_lr_0.001_l2_0.01/best','hyperparams')}.yml\",\n",
    "                'r'\n",
    "            ),\n",
    "            Loader=yaml.FullLoader\n",
    "        )\n",
    "    )\n",
    ")"
   ]
  },
  {
   "cell_type": "code",
   "execution_count": null,
   "metadata": {},
   "outputs": [],
   "source": [
    "cos_sims = []\n",
    "cos_sim = nn.CosineSimilarity(dim=-1)\n",
    "with torch.no_grad():\n",
    "    with DataLoader(dataset, 9262, is_val=True, batch_size=2000, seed=44, device='cuda:0') as eval_loader:\n",
    "        for batch in eval_loader:\n",
    "            bl_model = ehr_ml.clmbr.CLMBR.from_pretrained(bl_model_path, 'cuda:0')\n",
    "            bl_outputs = bl_model(batch)['rnn']\n",
    "            for cl_hp in cl_grid:\n",
    "                sim = []\n",
    "                for i in range(20):\n",
    "                    cl_model_path = f\"{model_path}/contrastive_learn/models/gru_sz_800_do_0.1_cd_0_dd_0_lr_0.001_l2_0.01/bs_{cl_hp['batch_size']}_lr_{cl_hp['lr']}_temp_{cl_hp['temp']}_pool_{cl_hp['pool']}/{i}\"\n",
    "                    cl_model = ehr_ml.clmbr.CLMBR.from_pretrained(cl_model_path, 'cuda:0')\n",
    "                    cl_outputs = cl_model(batch)['rnn']\n",
    "                    sims = cos_sim(bl_outputs, cl_outputs)\n",
    "                    sims = torch.mean(sims, 1)\n",
    "                    sim.append(torch.mean(sims, 0).item())\n",
    "                print(sim)\n",
    "            cos_sims.append(sim)\n",
    "print(cos_sims)\n"
   ]
  },
  {
   "cell_type": "code",
   "execution_count": 60,
   "metadata": {},
   "outputs": [
    {
     "name": "stdout",
     "output_type": "stream",
     "text": [
      "[0.57643871 0.4965348  0.45252702 0.42090608 0.39593026 0.37223704\n",
      " 0.35183617 0.33317533 0.31945741 0.30877209 0.30082418 0.29177137\n",
      " 0.28780901 0.28943078 0.29245434 0.30057417 0.29717783 0.30231637\n",
      " 0.31525766 0.31254155]\n"
     ]
    }
   ],
   "source": [
    "np_sims = np.array(cos_sims)\n",
    "print(np.mean(np_sims,0))\n",
    "mean_sims = np.mean(np_sims,0)"
   ]
  },
  {
   "cell_type": "code",
   "execution_count": 62,
   "metadata": {},
   "outputs": [
    {
     "name": "stdout",
     "output_type": "stream",
     "text": [
      "[]\n"
     ]
    }
   ],
   "source": []
  },
  {
   "cell_type": "code",
   "execution_count": 59,
   "metadata": {},
   "outputs": [
    {
     "data": {
      "text/plain": [
       "<Figure size 432x288 with 0 Axes>"
      ]
     },
     "metadata": {},
     "output_type": "display_data"
    }
   ],
   "source": [
    "from matplotlib import pyplot as plt\n",
    "from matplotlib.ticker import MaxNLocator\n",
    "from matplotlib.pyplot import savefig\n",
    "from matplotlib.ticker import FormatStrFormatter\n",
    "%matplotlib inline\n",
    "\n",
    "import seaborn as sns\n",
    "sns.set_style(\"ticks\")\n",
    "sns.set_context(context='paper',font_scale=1.2)\n",
    "sns.despine()"
   ]
  },
  {
   "cell_type": "code",
   "execution_count": 63,
   "metadata": {},
   "outputs": [
    {
     "data": {
      "image/png": "[encoded data removed]",
      "text/plain": [
       "<Figure size 432x288 with 1 Axes>"
      ]
     },
     "metadata": {},
     "output_type": "display_data"
    }
   ],
   "source": [
    "plt.plot([i+1 for i in range(20)],mean_sims)\n",
    "plt.title('Mean Cosine Similarity of CLMBR and CL-CLMBR representations')\n",
    "plt.xlabel('Number of CL updates')\n",
    "plt.ylabel('Cosine Similarity')\n",
    "plt.show()"
   ]
  },
  {
   "cell_type": "code",
   "execution_count": null,
   "metadata": {},
   "outputs": [],
   "source": []
  }
 ],
 "metadata": {
  "kernelspec": {
   "display_name": "conl",
   "language": "python",
   "name": "conl"
  },
  "language_info": {
   "codemirror_mode": {
    "name": "ipython",
    "version": 3
   },
   "file_extension": ".py",
   "mimetype": "text/x-python",
   "name": "python",
   "nbconvert_exporter": "python",
   "pygments_lexer": "ipython3",
   "version": "3.9.10"
  }
 },
 "nbformat": 4,
 "nbformat_minor": 2
}
