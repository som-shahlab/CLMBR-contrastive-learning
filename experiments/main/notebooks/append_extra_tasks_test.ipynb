{
 "cells": [
  {
   "cell_type": "code",
   "execution_count": 45,
   "metadata": {},
   "outputs": [],
   "source": [
    "import pandas as pd\n",
    "import os\n",
    "import google.auth\n",
    "import numpy as np"
   ]
  },
  {
   "cell_type": "code",
   "execution_count": 20,
   "metadata": {},
   "outputs": [
    {
     "name": "stderr",
     "output_type": "stream",
     "text": [
      "/local-scratch/nigam/envs/jlemmon/conl/lib/python3.9/site-packages/google/auth/_default.py:79: UserWarning: Your application has authenticated using end user credentials from Google Cloud SDK without a quota project. You might receive a \"quota exceeded\" or \"API not enabled\" error. We recommend you rerun `gcloud auth application-default login` and make sure a quota project is added. Or you can use service accounts instead. For more information about service accounts, see https://cloud.google.com/docs/authentication/\n",
      "  warnings.warn(_CLOUD_SDK_CREDENTIALS_WARNING)\n"
     ]
    }
   ],
   "source": [
    "credentials, project_id = google.auth.default()\n",
    "rs_dataset_project = 'som-nero-nigam-starr'\n",
    "rs_dataset = 'jlemmon_explore'\n",
    "rs_table = 'sudden_cardiac_death_cohort'\n",
    "cohort_fpath = '/local-scratch/nigam/projects/jlemmon/cl-clmbr/experiments/main/data/'"
   ]
  },
  {
   "cell_type": "code",
   "execution_count": 18,
   "metadata": {},
   "outputs": [],
   "source": [
    "query = f'SELECT * FROM {rs_dataset_project}.{rs_dataset}.{rs_table}'\n",
    "\n",
    "scd_cohort_df = pd.read_gbq(query, project_id=rs_dataset_project, dialect='standard', credentials=credentials)"
   ]
  },
  {
   "cell_type": "code",
   "execution_count": 19,
   "metadata": {},
   "outputs": [
    {
     "name": "stdout",
     "output_type": "stream",
     "text": [
      "      cohort_definition_id  person_id  start_date    end_date\n",
      "0                        1   30313699  2009-12-14  2009-12-23\n",
      "1                        1   30012248  2010-08-27  2010-09-03\n",
      "2                        1   32477186  2014-02-27  2014-03-06\n",
      "3                        1   30966573  2014-11-10  2014-11-17\n",
      "4                        1   32168272  2016-12-17  2016-12-24\n",
      "...                    ...        ...         ...         ...\n",
      "4036                     1   32443919  2016-12-16  2016-12-23\n",
      "4037                     1   31050037  2017-08-29  2017-09-05\n",
      "4038                     1   32101654  2019-01-23  2019-01-31\n",
      "4039                     1   30165733  2019-10-06  2019-10-07\n",
      "4040                     1   42130121  2019-10-06  2019-10-13\n",
      "\n",
      "[4041 rows x 4 columns]\n"
     ]
    }
   ],
   "source": [
    "print(scd_cohort_df)"
   ]
  },
  {
   "cell_type": "code",
   "execution_count": 21,
   "metadata": {},
   "outputs": [],
   "source": [
    "def read_file(filename, columns=None, **kwargs):\n",
    "    print(filename)\n",
    "    load_extension = os.path.splitext(filename)[-1]\n",
    "    if load_extension == \".parquet\":\n",
    "        return pd.read_parquet(filename, columns=columns,**kwargs)\n",
    "    elif load_extension == \".csv\":\n",
    "        return pd.read_csv(filename, usecols=columns, **kwargs)"
   ]
  },
  {
   "cell_type": "code",
   "execution_count": 79,
   "metadata": {},
   "outputs": [
    {
     "name": "stdout",
     "output_type": "stream",
     "text": [
      "/local-scratch/nigam/projects/jlemmon/cl-clmbr/experiments/main/data/cohort/cohort.parquet\n"
     ]
    }
   ],
   "source": [
    "cohort = read_file(\n",
    "    os.path.join(\n",
    "        cohort_fpath,\n",
    "        \"cohort/cohort.parquet\"\n",
    "    ),\n",
    "    engine='pyarrow'\n",
    ")"
   ]
  },
  {
   "cell_type": "code",
   "execution_count": 80,
   "metadata": {},
   "outputs": [
    {
     "name": "stdout",
     "output_type": "stream",
     "text": [
      "   person_id          admit_date      discharge_date admit_date_midnight  \\\n",
      "0   29936887 2019-12-22 22:44:00 2019-12-26 16:00:00 2019-12-22 23:59:00   \n",
      "1   29936888 2010-07-12 06:34:00 2010-07-14 10:38:00 2010-07-12 23:59:00   \n",
      "2   29936900 2014-10-31 15:08:00 2014-11-03 13:25:00 2014-10-31 23:59:00   \n",
      "3   29936914 2018-06-23 05:20:00 2018-06-25 13:48:00 2018-06-23 23:59:00   \n",
      "4   29936936 2018-02-08 12:05:00 2018-02-10 16:30:00 2018-02-08 23:59:00   \n",
      "\n",
      "  discharge_date_midnight  hospital_mortality death_date  month_mortality  \\\n",
      "0     2019-12-26 23:59:00                   0        NaT                0   \n",
      "1     2010-07-14 23:59:00                   0        NaT                0   \n",
      "2     2014-11-03 23:59:00                   0        NaT                0   \n",
      "3     2018-06-25 23:59:00                   0        NaT                0   \n",
      "4     2018-02-10 23:59:00                   0        NaT                0   \n",
      "\n",
      "   LOS_days  LOS_7  ...               race_eth_raw  \\\n",
      "0         4      0  ...  Black or African American   \n",
      "1         2      0  ...  Black or African American   \n",
      "2         3      0  ...  Black or African American   \n",
      "3         2      0  ...  Black or African American   \n",
      "4         2      0  ...  Black or African American   \n",
      "\n",
      "                                    race_eth_gender  \\\n",
      "0  race_eth:Black or African American-gender:FEMALE   \n",
      "1  race_eth:Black or African American-gender:FEMALE   \n",
      "2  race_eth:Black or African American-gender:FEMALE   \n",
      "3  race_eth:Black or African American-gender:FEMALE   \n",
      "4  race_eth:Black or African American-gender:FEMALE   \n",
      "\n",
      "                                  race_eth_age_group  \\\n",
      "0  race_eth:Black or African American-age_group:[...   \n",
      "1  race_eth:Black or African American-age_group:[...   \n",
      "2  race_eth:Black or African American-age_group:[...   \n",
      "3  race_eth:Black or African American-age_group:[...   \n",
      "4  race_eth:Black or African American-age_group:[...   \n",
      "\n",
      "                           race_eth_gender_age_group  \\\n",
      "0  race_eth:Black or African American-gender:FEMA...   \n",
      "1  race_eth:Black or African American-gender:FEMA...   \n",
      "2  race_eth:Black or African American-gender:FEMA...   \n",
      "3  race_eth:Black or African American-gender:FEMA...   \n",
      "4  race_eth:Black or African American-gender:FEMA...   \n",
      "\n",
      "                                 race_eth_raw_gender  \\\n",
      "0  race_eth_raw:Black or African American-gender:...   \n",
      "1  race_eth_raw:Black or African American-gender:...   \n",
      "2  race_eth_raw:Black or African American-gender:...   \n",
      "3  race_eth_raw:Black or African American-gender:...   \n",
      "4  race_eth_raw:Black or African American-gender:...   \n",
      "\n",
      "                              race_eth_raw_age_group  \\\n",
      "0  race_eth_raw:Black or African American-age_gro...   \n",
      "1  race_eth_raw:Black or African American-age_gro...   \n",
      "2  race_eth_raw:Black or African American-age_gro...   \n",
      "3  race_eth_raw:Black or African American-age_gro...   \n",
      "4  race_eth_raw:Black or African American-age_gro...   \n",
      "\n",
      "                       race_eth_raw_gender_age_group        prediction_id  \\\n",
      "0  race_eth_raw:Black or African American-gender:... -2195705734750452633   \n",
      "1  race_eth_raw:Black or African American-gender:... -8518810688854235412   \n",
      "2  race_eth_raw:Black or African American-gender:... -6128312028545446962   \n",
      "3  race_eth_raw:Black or African American-gender:...  1499995422181081701   \n",
      "4  race_eth_raw:Black or African American-gender:... -6443951773612163470   \n",
      "\n",
      "  fold_id sudden_cardiac_death  \n",
      "0       4                    0  \n",
      "1       1                    0  \n",
      "2    test                    0  \n",
      "3       4                    0  \n",
      "4       2                    0  \n",
      "\n",
      "[5 rows x 28 columns]\n"
     ]
    }
   ],
   "source": [
    "cohort['sudden_cardiac_death'] = 0\n",
    "print(cohort.head())"
   ]
  },
  {
   "cell_type": "code",
   "execution_count": 62,
   "metadata": {},
   "outputs": [],
   "source": [
    "cohort_pat_ids = list(cohort['person_id'])\n",
    "scd_pat_ids = list(scd_cohort_df['person_id'])"
   ]
  },
  {
   "cell_type": "code",
   "execution_count": 63,
   "metadata": {},
   "outputs": [
    {
     "name": "stdout",
     "output_type": "stream",
     "text": [
      "224137\n",
      "4041\n",
      "3985\n"
     ]
    }
   ],
   "source": [
    "print(len(cohort_pat_ids))\n",
    "print(len(scd_pat_ids))\n",
    "print(len(set(scd_pat_ids)))"
   ]
  },
  {
   "cell_type": "code",
   "execution_count": 73,
   "metadata": {},
   "outputs": [
    {
     "name": "stderr",
     "output_type": "stream",
     "text": [
      "/tmp/ipykernel_1933659/1821248294.py:1: SettingWithCopyWarning: \n",
      "A value is trying to be set on a copy of a slice from a DataFrame\n",
      "\n",
      "See the caveats in the documentation: https://pandas.pydata.org/pandas-docs/stable/user_guide/indexing.html#returning-a-view-versus-a-copy\n",
      "  cohort['sudden_cardiac_death'][cohort.person_id.isin(scd_pat_ids)] = 1\n"
     ]
    }
   ],
   "source": [
    "cohort.loc[cohort.person_id.isin(scd_pat_ids), 'sudden_cardiac_death'] = 1"
   ]
  },
  {
   "cell_type": "code",
   "execution_count": 81,
   "metadata": {},
   "outputs": [],
   "source": [
    "cohort['sudden_cardiac_death'] = cohort['sudden_cardiac_death'].mask(cohort.person_id.isin(scd_pat_ids), 1)"
   ]
  },
  {
   "cell_type": "code",
   "execution_count": 83,
   "metadata": {},
   "outputs": [
    {
     "name": "stdout",
     "output_type": "stream",
     "text": [
      "   person_id          admit_date      discharge_date admit_date_midnight  \\\n",
      "0   29936887 2019-12-22 22:44:00 2019-12-26 16:00:00 2019-12-22 23:59:00   \n",
      "1   29936888 2010-07-12 06:34:00 2010-07-14 10:38:00 2010-07-12 23:59:00   \n",
      "2   29936900 2014-10-31 15:08:00 2014-11-03 13:25:00 2014-10-31 23:59:00   \n",
      "3   29936914 2018-06-23 05:20:00 2018-06-25 13:48:00 2018-06-23 23:59:00   \n",
      "4   29936936 2018-02-08 12:05:00 2018-02-10 16:30:00 2018-02-08 23:59:00   \n",
      "\n",
      "  discharge_date_midnight  hospital_mortality death_date  month_mortality  \\\n",
      "0     2019-12-26 23:59:00                   0        NaT                0   \n",
      "1     2010-07-14 23:59:00                   0        NaT                0   \n",
      "2     2014-11-03 23:59:00                   0        NaT                0   \n",
      "3     2018-06-25 23:59:00                   0        NaT                0   \n",
      "4     2018-02-10 23:59:00                   0        NaT                0   \n",
      "\n",
      "   LOS_days  LOS_7  ...               race_eth_raw  \\\n",
      "0         4      0  ...  Black or African American   \n",
      "1         2      0  ...  Black or African American   \n",
      "2         3      0  ...  Black or African American   \n",
      "3         2      0  ...  Black or African American   \n",
      "4         2      0  ...  Black or African American   \n",
      "\n",
      "                                    race_eth_gender  \\\n",
      "0  race_eth:Black or African American-gender:FEMALE   \n",
      "1  race_eth:Black or African American-gender:FEMALE   \n",
      "2  race_eth:Black or African American-gender:FEMALE   \n",
      "3  race_eth:Black or African American-gender:FEMALE   \n",
      "4  race_eth:Black or African American-gender:FEMALE   \n",
      "\n",
      "                                  race_eth_age_group  \\\n",
      "0  race_eth:Black or African American-age_group:[...   \n",
      "1  race_eth:Black or African American-age_group:[...   \n",
      "2  race_eth:Black or African American-age_group:[...   \n",
      "3  race_eth:Black or African American-age_group:[...   \n",
      "4  race_eth:Black or African American-age_group:[...   \n",
      "\n",
      "                           race_eth_gender_age_group  \\\n",
      "0  race_eth:Black or African American-gender:FEMA...   \n",
      "1  race_eth:Black or African American-gender:FEMA...   \n",
      "2  race_eth:Black or African American-gender:FEMA...   \n",
      "3  race_eth:Black or African American-gender:FEMA...   \n",
      "4  race_eth:Black or African American-gender:FEMA...   \n",
      "\n",
      "                                 race_eth_raw_gender  \\\n",
      "0  race_eth_raw:Black or African American-gender:...   \n",
      "1  race_eth_raw:Black or African American-gender:...   \n",
      "2  race_eth_raw:Black or African American-gender:...   \n",
      "3  race_eth_raw:Black or African American-gender:...   \n",
      "4  race_eth_raw:Black or African American-gender:...   \n",
      "\n",
      "                              race_eth_raw_age_group  \\\n",
      "0  race_eth_raw:Black or African American-age_gro...   \n",
      "1  race_eth_raw:Black or African American-age_gro...   \n",
      "2  race_eth_raw:Black or African American-age_gro...   \n",
      "3  race_eth_raw:Black or African American-age_gro...   \n",
      "4  race_eth_raw:Black or African American-age_gro...   \n",
      "\n",
      "                       race_eth_raw_gender_age_group        prediction_id  \\\n",
      "0  race_eth_raw:Black or African American-gender:... -2195705734750452633   \n",
      "1  race_eth_raw:Black or African American-gender:... -8518810688854235412   \n",
      "2  race_eth_raw:Black or African American-gender:... -6128312028545446962   \n",
      "3  race_eth_raw:Black or African American-gender:...  1499995422181081701   \n",
      "4  race_eth_raw:Black or African American-gender:... -6443951773612163470   \n",
      "\n",
      "  fold_id sudden_cardiac_death  \n",
      "0       4                    0  \n",
      "1       1                    0  \n",
      "2    test                    0  \n",
      "3       4                    0  \n",
      "4       2                    0  \n",
      "\n",
      "[5 rows x 28 columns]\n"
     ]
    }
   ],
   "source": [
    "print(cohort.head())"
   ]
  },
  {
   "cell_type": "code",
   "execution_count": null,
   "metadata": {},
   "outputs": [],
   "source": []
  }
 ],
 "metadata": {
  "kernelspec": {
   "display_name": "conl",
   "language": "python",
   "name": "conl"
  },
  "language_info": {
   "codemirror_mode": {
    "name": "ipython",
    "version": 3
   },
   "file_extension": ".py",
   "mimetype": "text/x-python",
   "name": "python",
   "nbconvert_exporter": "python",
   "pygments_lexer": "ipython3",
   "version": "3.9.10"
  }
 },
 "nbformat": 4,
 "nbformat_minor": 2
}
