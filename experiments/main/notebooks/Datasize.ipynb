{
 "cells": [
  {
   "cell_type": "code",
   "execution_count": 1,
   "metadata": {},
   "outputs": [],
   "source": [
    "import os\n",
    "import numpy as np\n",
    "\n",
    "from ehr_ml.clmbr.utils import read_config, read_info\n",
    "\n",
    "from ehr_ml.extension.timeline import (\n",
    "    ObservationWithValue,\n",
    "    TimelineReader,\n",
    "    Patient,\n",
    "    PatientDay,\n",
    ")"
   ]
  },
  {
   "cell_type": "code",
   "execution_count": null,
   "metadata": {},
   "outputs": [],
   "source": [
    "info_dir = \"/local-scratch/nigam/projects/jlemmon/cl-clmbr/experiments/main/artifacts/models/clmbr/pretrained/info\"\n",
    "info = read_info(os.path.join(info_dir,'info.json'))\n",
    "\n",
    "source_file = \"/local-scratch/nigam/projects/jlemmon/cl-clmbr/experiments/main/data/extracts/20210723\"\n",
    "timelines = TimelineReader(source_file)"
   ]
  },
  {
   "cell_type": "markdown",
   "metadata": {},
   "source": [
    "#### Get train data size (num patients, days, codes)"
   ]
  },
  {
   "cell_type": "code",
   "execution_count": null,
   "metadata": {},
   "outputs": [],
   "source": [
    "total_train_patients = len(info['train_patient_ids_with_length'])\n",
    "total_train_days = np.sum([x[1] for x in info['train_patient_ids_with_length']])\n",
    "avg_train_days = total_train_days/total_train_patients\n",
    "\n",
    "total_train_codes, avg_train_codes = 0, 0\n",
    "\n",
    "for pat_id in [x[0] for x in info['train_patient_ids_with_length']]:\n",
    "    patient = timelines.get_patient(pat_id)\n",
    "    num_days = len(patient.days)\n",
    "    num_codes = 0\n",
    "    for day in patient.days:\n",
    "        total_train_codes+=len(day.observations)\n",
    "        num_codes+=len(day.observations)\n",
    "        \n",
    "    avg_train_codes += num_codes/num_days\n",
    "\n",
    "avg_train_codes/=total_train_patients\n",
    "    \n",
    "\n",
    "print(f\"\\n \\\n",
    "{total_train_patients} total patients\\n \\\n",
    "{total_train_days} total days\\n \\\n",
    "{avg_train_days} avg days per patient\\n \\\n",
    "{total_train_codes} total codes\\n \\\n",
    "{avg_train_codes} average codes per day \\n\\\n",
    "\")"
   ]
  },
  {
   "cell_type": "code",
   "execution_count": null,
   "metadata": {},
   "outputs": [],
   "source": [
    "def obs_with_value_to_str(obs_with_value: ObservationWithValue) -> str:\n",
    "    return timelines.get_dictionary().get_word(obs_with_value.code)"
   ]
  },
  {
   "cell_type": "code",
   "execution_count": null,
   "metadata": {},
   "outputs": [],
   "source": [
    "vocabs = set()\n",
    "\n",
    "for pat_id in [x[0] for x in info['train_patient_ids_with_length']]:\n",
    "    patient = timelines.get_patient(pat_id)\n",
    "    for i, day in enumerate(patient.days):\n",
    "        vocabs = vocabs.union(\n",
    "            set([\n",
    "                str(timelines.get_dictionary().get_word(a)).split('/')[0]\n",
    "                for a in day.observations\n",
    "            ]).union(set([\n",
    "                obs_with_value_to_str(a).split('/')[0]\n",
    "                for a in day.observations_with_values\n",
    "            ]))\n",
    "        )"
   ]
  },
  {
   "cell_type": "code",
   "execution_count": null,
   "metadata": {},
   "outputs": [],
   "source": [
    "[timelines.get_dictionary().get_word(a) for a in day.observations]"
   ]
  },
  {
   "cell_type": "code",
   "execution_count": null,
   "metadata": {},
   "outputs": [],
   "source": []
  }
 ],
 "metadata": {
  "kernelspec": {
   "display_name": "conl",
   "language": "python",
   "name": "conl"
  },
  "language_info": {
   "codemirror_mode": {
    "name": "ipython",
    "version": 3
   },
   "file_extension": ".py",
   "mimetype": "text/x-python",
   "name": "python",
   "nbconvert_exporter": "python",
   "pygments_lexer": "ipython3",
   "version": "3.9.10"
  }
 },
 "nbformat": 4,
 "nbformat_minor": 5
}
