{
 "cells": [
  {
   "cell_type": "code",
   "execution_count": 11,
   "metadata": {},
   "outputs": [],
   "source": [
    "from ehr_ml.clmbr import Trainer\n",
    "from ehr_ml.clmbr import PatientTimelineDataset\n",
    "from ehr_ml.clmbr.dataset import DataLoader\n",
    "import pandas as pd\n",
    "import numpy as np\n",
    "\n",
    "tasks = ['hospital_mortality', 'LOS_7', 'icu_admission', 'readmission_30']"
   ]
  },
  {
   "cell_type": "code",
   "execution_count": 17,
   "metadata": {},
   "outputs": [],
   "source": [
    "def load_datasets(task):\n",
    "    \"\"\"\n",
    "    Load datasets from split csv files.\n",
    "    \"\"\"\n",
    "    data_path = f'/local-scratch/nigam/projects/jlemmon/cl-clmbr/experiments/main/data/labelled_data/{task}/pretrained/gru_sz_800_do_0.1_cd_0_dd_0_lr_0.001_l2_0.01'\n",
    "\n",
    "    train_pids = pd.read_csv(f'{data_path}/ehr_ml_patient_ids_train.csv')\n",
    "    val_pids = pd.read_csv(f'{data_path}/ehr_ml_patient_ids_val.csv')\n",
    "    test_pids = pd.read_csv(f'{data_path}/ehr_ml_patient_ids_test.csv')\n",
    "\n",
    "    train_days = pd.read_csv(f'{data_path}/day_indices_train.csv')\n",
    "    val_days = pd.read_csv(f'{data_path}/day_indices_val.csv')\n",
    "    test_days = pd.read_csv(f'{data_path}/day_indices_test.csv')\n",
    "\n",
    "    train_labels = pd.read_csv(f'{data_path}/labels_train.csv')\n",
    "    val_labels = pd.read_csv(f'{data_path}/labels_val.csv')\n",
    "    test_labels = pd.read_csv(f'{data_path}/labels_test.csv')\n",
    "\n",
    "    print('Prevelance')\n",
    "    train_data = (train_labels.to_numpy().flatten(),train_pids.to_numpy().flatten(),train_days.to_numpy().flatten())\n",
    "    print(np.sum(train_labels)/len(train_labels))\n",
    "    val_data = (val_labels.to_numpy().flatten(),val_pids.to_numpy().flatten(),val_days.to_numpy().flatten())\n",
    "    print(np.sum(val_labels)/len(val_labels))\n",
    "    test_data = (test_labels.to_numpy().flatten(),test_pids.to_numpy().flatten(),test_days.to_numpy().flatten())\n",
    "    print(np.sum(test_labels)/len(test_labels))\n",
    "\n",
    "#     train_dataset = PatientTimelineDataset(args.extract_path + '/extract.db', \n",
    "#                                              args.extract_path + '/ontology.db', \n",
    "#                                              f'{clmbr_model_path}/info.json', \n",
    "#                                              train_data, \n",
    "#                                              val_data )\n",
    "\n",
    "#     test_dataset = PatientTimelineDataset(args.extract_path + '/extract.db', \n",
    "#                                          args.extract_path + '/ontology.db', \n",
    "#                                          f'{clmbr_model_path}/info.json', \n",
    "#                                          train_data, \n",
    "#                                          test_data )\n",
    "\n",
    "#     return train_dataset, test_dataset"
   ]
  },
  {
   "cell_type": "code",
   "execution_count": 18,
   "metadata": {},
   "outputs": [
    {
     "name": "stdout",
     "output_type": "stream",
     "text": [
      "Prevelance\n",
      "hospital_mortality    0.022406\n",
      "dtype: float64\n",
      "hospital_mortality    0.021254\n",
      "dtype: float64\n",
      "hospital_mortality    0.01906\n",
      "dtype: float64\n",
      "Prevelance\n",
      "LOS_7    0.204583\n",
      "dtype: float64\n",
      "LOS_7    0.20459\n",
      "dtype: float64\n",
      "LOS_7    0.189423\n",
      "dtype: float64\n",
      "Prevelance\n",
      "icu_admission    0.022644\n",
      "dtype: float64\n",
      "icu_admission    0.021452\n",
      "dtype: float64\n",
      "icu_admission    0.042695\n",
      "dtype: float64\n",
      "Prevelance\n",
      "readmission_30    0.053312\n",
      "dtype: float64\n",
      "readmission_30    0.050922\n",
      "dtype: float64\n",
      "readmission_30    0.048194\n",
      "dtype: float64\n"
     ]
    }
   ],
   "source": [
    "for task in tasks:\n",
    "    load_datasets(task)"
   ]
  },
  {
   "cell_type": "code",
   "execution_count": null,
   "metadata": {},
   "outputs": [],
   "source": [
    "extract_path ='/local-scratch/nigam/projects/jlemmon/cl-clmbr/experiments/main/data/extracts/20210723'\n",
    "model_path = '/local-scratch/nigam/projects/jlemmon/cl-clmbr/experiments/main/artifacts/models/clmbr/pretrained/models/gru_sz_800_do_0.1_lr_0.01_l2_0.01'\n",
    "dataset = PatientTimelineDataset(extract_path + '/extract.db', \n",
    "                                 extract_path + '/ontology.db', \n",
    "                                 f'{model_path}/info.json', \n",
    "                                 train_data, \n",
    "                                 val_data )"
   ]
  },
  {
   "cell_type": "code",
   "execution_count": null,
   "metadata": {},
   "outputs": [],
   "source": [
    "train_loader = DataLoader(dataset, 7860, is_val=False, batch_size=512, seed=44, device='cuda:4')"
   ]
  },
  {
   "cell_type": "code",
   "execution_count": null,
   "metadata": {},
   "outputs": [],
   "source": [
    "for batch in train_loader:\n",
    "    print(sum([len(x) for x in batch['day_index']]))\n",
    "   "
   ]
  },
  {
   "cell_type": "code",
   "execution_count": null,
   "metadata": {},
   "outputs": [],
   "source": []
  }
 ],
 "metadata": {
  "kernelspec": {
   "display_name": "conl",
   "language": "python",
   "name": "conl"
  },
  "language_info": {
   "codemirror_mode": {
    "name": "ipython",
    "version": 3
   },
   "file_extension": ".py",
   "mimetype": "text/x-python",
   "name": "python",
   "nbconvert_exporter": "python",
   "pygments_lexer": "ipython3",
   "version": "3.9.10"
  }
 },
 "nbformat": 4,
 "nbformat_minor": 2
}
