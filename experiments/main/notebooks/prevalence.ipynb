{
 "cells": [
  {
   "cell_type": "code",
   "execution_count": 1,
   "metadata": {},
   "outputs": [],
   "source": [
    "from ehr_ml.clmbr import Trainer\n",
    "from ehr_ml.clmbr import PatientTimelineDataset\n",
    "from ehr_ml.clmbr.dataset import DataLoader\n",
    "import pandas as pd\n",
    "import numpy as np\n",
    "\n",
    "tasks = ['hospital_mortality', 'LOS_7', 'icu_admission', 'readmission_30', 'bladder_cancer', 'breast_cancer',  'renal_cancer', 'diabetic_ketoacidosis', 'edema', 'hyperkylemia', 'revascularization','stroke', 'sudden_cardiac_death', 'acute_renal_failure', 'acute_myocardial_infarction']"
   ]
  },
  {
   "cell_type": "code",
   "execution_count": 7,
   "metadata": {},
   "outputs": [],
   "source": [
    "def load_datasets(task):\n",
    "    \"\"\"\n",
    "    Load datasets from split csv files.\n",
    "    \"\"\"\n",
    "    data_path = f'/local-scratch/nigam/projects/jlemmon/cl-clmbr/experiments/main/data/labelled_data/{task}/pretrained/gru_sz_800_do_0.1_cd_0_dd_0_lr_0.001_l2_0.01'\n",
    "\n",
    "    train_pids = pd.read_csv(f'{data_path}/ehr_ml_patient_ids_train.csv')\n",
    "    val_pids = pd.read_csv(f'{data_path}/ehr_ml_patient_ids_val.csv')\n",
    "    test_pids = pd.read_csv(f'{data_path}/ehr_ml_patient_ids_test.csv')\n",
    "\n",
    "    train_days = pd.read_csv(f'{data_path}/day_indices_train.csv')\n",
    "    val_days = pd.read_csv(f'{data_path}/day_indices_val.csv')\n",
    "    test_days = pd.read_csv(f'{data_path}/day_indices_test.csv')\n",
    "\n",
    "    train_labels = pd.read_csv(f'{data_path}/labels_train.csv')\n",
    "    val_labels = pd.read_csv(f'{data_path}/labels_val.csv')\n",
    "    test_labels = pd.read_csv(f'{data_path}/labels_test.csv')\n",
    "\n",
    "    print('Prevelance')\n",
    "    train_data = (train_labels.to_numpy().flatten(),train_pids.to_numpy().flatten(),train_days.to_numpy().flatten())\n",
    "    print(task, 'train', f'total:{np.sum(train_labels)[0]}', '{0:.3f}'.format(np.sum(train_labels)[0]/len(train_labels)*100))\n",
    "    val_data = (val_labels.to_numpy().flatten(),val_pids.to_numpy().flatten(),val_days.to_numpy().flatten())\n",
    "    print(task, 'val', f'total:{np.sum(val_labels)[0]}', '{0:.3f}'.format(np.sum(val_labels)[0]/len(val_labels)*100))\n",
    "    test_data = (test_labels.to_numpy().flatten(),test_pids.to_numpy().flatten(),test_days.to_numpy().flatten())\n",
    "    print(task, 'test', f'total:{np.sum(test_labels)[0]}', '{0:.3f}'.format(np.sum(test_labels)[0]/len(test_labels)*100))\n",
    "\n",
    "#     train_dataset = PatientTimelineDataset(args.extract_path + '/extract.db', \n",
    "#                                              args.extract_path + '/ontology.db', \n",
    "#                                              f'{clmbr_model_path}/info.json', \n",
    "#                                              train_data, \n",
    "#                                              val_data )\n",
    "\n",
    "#     test_dataset = PatientTimelineDataset(args.extract_path + '/extract.db', \n",
    "#                                          args.extract_path + '/ontology.db', \n",
    "#                                          f'{clmbr_model_path}/info.json', \n",
    "#                                          train_data, \n",
    "#                                          test_data )\n",
    "\n",
    "#     return train_dataset, test_dataset"
   ]
  },
  {
   "cell_type": "code",
   "execution_count": 8,
   "metadata": {},
   "outputs": [
    {
     "name": "stdout",
     "output_type": "stream",
     "text": [
      "Prevelance\n",
      "hospital_mortality train total:1972 2.241\n",
      "hospital_mortality val total:401 2.125\n",
      "hospital_mortality test total:275 1.906\n",
      "Prevelance\n",
      "LOS_7 train total:18006 20.458\n",
      "LOS_7 val total:3860 20.459\n",
      "LOS_7 test total:2733 18.942\n",
      "Prevelance\n",
      "icu_admission train total:1921 2.264\n",
      "icu_admission val total:390 2.145\n",
      "icu_admission test total:583 4.269\n",
      "Prevelance\n",
      "readmission_30 train total:4569 5.331\n",
      "readmission_30 val total:936 5.092\n",
      "readmission_30 test total:678 4.819\n",
      "Prevelance\n",
      "bladder_cancer train total:223.0 0.253\n",
      "bladder_cancer val total:43.0 0.228\n",
      "bladder_cancer test total:10.0 0.069\n",
      "Prevelance\n",
      "breast_cancer train total:636.0 0.723\n",
      "breast_cancer val total:149.0 0.790\n",
      "breast_cancer test total:39.0 0.270\n",
      "Prevelance\n",
      "renal_cancer train total:214.0 0.243\n",
      "renal_cancer val total:39.0 0.207\n",
      "renal_cancer test total:11.0 0.076\n",
      "Prevelance\n",
      "diabetic_ketoacidosis train total:121.0 0.137\n",
      "diabetic_ketoacidosis val total:39.0 0.207\n",
      "diabetic_ketoacidosis test total:13.0 0.090\n",
      "Prevelance\n",
      "edema train total:10585.0 12.027\n",
      "edema val total:2176.0 11.533\n",
      "edema test total:812.0 5.628\n",
      "Prevelance\n",
      "hyperkylemia train total:7868.0 8.940\n",
      "hyperkylemia val total:1691.0 8.963\n",
      "hyperkylemia test total:866.0 6.002\n",
      "Prevelance\n",
      "revascularization train total:213.0 0.242\n",
      "revascularization val total:34.0 0.180\n",
      "revascularization test total:28.0 0.194\n",
      "Prevelance\n",
      "stroke train total:1927.0 2.189\n",
      "stroke val total:414.0 2.194\n",
      "stroke test total:107.0 0.742\n",
      "Prevelance\n",
      "sudden_cardiac_death train total:486.0 0.552\n",
      "sudden_cardiac_death val total:119.0 0.631\n",
      "sudden_cardiac_death test total:45.0 0.312\n",
      "Prevelance\n",
      "acute_renal_failure train total:4328.0 4.917\n",
      "acute_renal_failure val total:913.0 4.839\n",
      "acute_renal_failure test total:494.0 3.424\n",
      "Prevelance\n",
      "acute_myocardial_infarction train total:1128.0 1.282\n",
      "acute_myocardial_infarction val total:228.0 1.208\n",
      "acute_myocardial_infarction test total:100.0 0.693\n"
     ]
    }
   ],
   "source": [
    "for task in tasks:\n",
    "    load_datasets(task)"
   ]
  },
  {
   "cell_type": "code",
   "execution_count": 4,
   "metadata": {},
   "outputs": [
    {
     "ename": "NameError",
     "evalue": "name 'train_data' is not defined",
     "output_type": "error",
     "traceback": [
      "\u001b[0;31m---------------------------------------------------------------------------\u001b[0m",
      "\u001b[0;31mNameError\u001b[0m                                 Traceback (most recent call last)",
      "Input \u001b[0;32mIn [4]\u001b[0m, in \u001b[0;36m<module>\u001b[0;34m\u001b[0m\n\u001b[1;32m      1\u001b[0m extract_path \u001b[38;5;241m=\u001b[39m\u001b[38;5;124m'\u001b[39m\u001b[38;5;124m/local-scratch/nigam/projects/jlemmon/cl-clmbr/experiments/main/data/extracts/20210723\u001b[39m\u001b[38;5;124m'\u001b[39m\n\u001b[1;32m      2\u001b[0m model_path \u001b[38;5;241m=\u001b[39m \u001b[38;5;124m'\u001b[39m\u001b[38;5;124m/local-scratch/nigam/projects/jlemmon/cl-clmbr/experiments/main/artifacts/models/clmbr/pretrained/models/gru_sz_800_do_0.1_lr_0.01_l2_0.01\u001b[39m\u001b[38;5;124m'\u001b[39m\n\u001b[1;32m      3\u001b[0m dataset \u001b[38;5;241m=\u001b[39m PatientTimelineDataset(extract_path \u001b[38;5;241m+\u001b[39m \u001b[38;5;124m'\u001b[39m\u001b[38;5;124m/extract.db\u001b[39m\u001b[38;5;124m'\u001b[39m, \n\u001b[1;32m      4\u001b[0m                                  extract_path \u001b[38;5;241m+\u001b[39m \u001b[38;5;124m'\u001b[39m\u001b[38;5;124m/ontology.db\u001b[39m\u001b[38;5;124m'\u001b[39m, \n\u001b[1;32m      5\u001b[0m                                  \u001b[38;5;124mf\u001b[39m\u001b[38;5;124m'\u001b[39m\u001b[38;5;132;01m{\u001b[39;00mmodel_path\u001b[38;5;132;01m}\u001b[39;00m\u001b[38;5;124m/info.json\u001b[39m\u001b[38;5;124m'\u001b[39m, \n\u001b[0;32m----> 6\u001b[0m                                  \u001b[43mtrain_data\u001b[49m, \n\u001b[1;32m      7\u001b[0m                                  val_data )\n",
      "\u001b[0;31mNameError\u001b[0m: name 'train_data' is not defined"
     ]
    }
   ],
   "source": [
    "extract_path ='/local-scratch/nigam/projects/jlemmon/cl-clmbr/experiments/main/data/extracts/20210723'\n",
    "model_path = '/local-scratch/nigam/projects/jlemmon/cl-clmbr/experiments/main/artifacts/models/clmbr/pretrained/models/gru_sz_800_do_0.1_lr_0.01_l2_0.01'\n",
    "dataset = PatientTimelineDataset(extract_path + '/extract.db', \n",
    "                                 extract_path + '/ontology.db', \n",
    "                                 f'{model_path}/info.json', \n",
    "                                 train_data, \n",
    "                                 val_data )"
   ]
  },
  {
   "cell_type": "code",
   "execution_count": null,
   "metadata": {},
   "outputs": [],
   "source": [
    "train_loader = DataLoader(dataset, 7860, is_val=False, batch_size=512, seed=44, device='cuda:4')"
   ]
  },
  {
   "cell_type": "code",
   "execution_count": null,
   "metadata": {},
   "outputs": [],
   "source": [
    "for batch in train_loader:\n",
    "    print(sum([len(x) for x in batch['day_index']]))\n",
    "   "
   ]
  },
  {
   "cell_type": "code",
   "execution_count": null,
   "metadata": {},
   "outputs": [],
   "source": []
  }
 ],
 "metadata": {
  "kernelspec": {
   "display_name": "conl",
   "language": "python",
   "name": "conl"
  },
  "language_info": {
   "codemirror_mode": {
    "name": "ipython",
    "version": 3
   },
   "file_extension": ".py",
   "mimetype": "text/x-python",
   "name": "python",
   "nbconvert_exporter": "python",
   "pygments_lexer": "ipython3",
   "version": "3.9.10"
  }
 },
 "nbformat": 4,
 "nbformat_minor": 2
}
